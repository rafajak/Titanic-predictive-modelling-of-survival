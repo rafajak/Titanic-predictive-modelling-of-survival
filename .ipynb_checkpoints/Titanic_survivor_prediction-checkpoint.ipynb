{
 "cells": [
  {
   "cell_type": "markdown",
   "metadata": {},
   "source": [
    "Predicting the Survival of Passengers on Titanic with Machine Learning  (Kaggle competition)    \n",
    "====    \n",
    "&nbsp; \n",
    "\n",
    "**Author:**  Rafal Jakubanis  https://www.github.com/rafajak    \n",
    "**Source of data:**  https://www.kaggle.com/c/titanic\n",
    "\n",
    "I took up this classic among data science projects to brush up on my skills of data wrangling, visualisation, and classification with \"shallow learning\" algorithms using sklearn.   \n",
    "\n",
    "Hope you find it useful in one way or another.\n",
    "\n",
    "If you have any questions about this project, have any suggestions on how to improve it, or if would like to work with me on something - feel free to contact at rafajak@gmail.com. Cheers! \n"
   ]
  },
  {
   "cell_type": "markdown",
   "metadata": {},
   "source": [
    "<img src=\"\">\n"
   ]
  },
  {
   "cell_type": "markdown",
   "metadata": {},
   "source": [
    "<img src=\"./input/DD_Titanic_dock.jpg\">\n"
   ]
  },
  {
   "cell_type": "markdown",
   "metadata": {},
   "source": [
    "\n",
    "\n",
    "### Table of contents:\n",
    "    \n",
    "1. [Import dependencies](#dep)        \n",
    "\n",
    "2. [Import datasets](#data)       \n",
    "\n",
    "3. [Data preparation](#prep)\n",
    "\n",
    "     3.1. [Pclass](#pclass)   \n",
    "     3.2. [Sex](#sex)   \n",
    "     3.3. [Age](#age)   \n",
    "     &nbsp;&nbsp;&nbsp;&nbsp;&nbsp;  3.3.1. [Derived] [ageband](#ageband)     \n",
    "     3.4. [SibSp](#sibsp)    \n",
    "     3.5. [Parch](#parch)     \n",
    "     &nbsp;&nbsp;&nbsp;&nbsp;&nbsp; \n",
    "     3.5.1 [Derived] [familysize (SibSp+Parch)](#familysize)    \n",
    "      &nbsp;&nbsp;&nbsp;&nbsp;&nbsp;  3.5.2 [Derived] [alone (lone travellers)](#alone)  \n",
    "     3.6. [Name](#name)   \n",
    "     &nbsp;&nbsp;&nbsp;&nbsp;&nbsp;  3.6.1 [Derived] [high_status](#high_status)        \n",
    "     3.7. [Fare](#fare)  \n",
    "     3.8. [Cabin](#cabin)   \n",
    "     &nbsp;&nbsp;&nbsp;&nbsp;&nbsp;  3.8.1  [Derived] [first_letter_cabin](#first_letter_cabin)        \n",
    "     3.9. [Embarked](#embarked)        \n",
    "&nbsp;     \n",
    "4.  [Dealing with missing data](#missing)  \n",
    "     4.1 [Dropping](#drop)  \n",
    "     4.2 [Imputing](#imput)   \n",
    "     4.2. [One-hot encoding](#onehot)      \n",
    "&nbsp;\n",
    "5. [Classification](#classification)    \n",
    "     5.1 [Logistic regression](#logreg)    \n",
    "     5.2 [Linear SVC](#linsvc)    \n",
    "     5.3 [KNearest neighbors](#knn)    \n",
    "     5.4 [SVC](#svc)    \n",
    "     5.5 [Random Forest Classifier](#rfc)        \n",
    "&nbsp;\n",
    "     \n",
    "6. [Results](#results)\n"
   ]
  },
  {
   "cell_type": "markdown",
   "metadata": {},
   "source": [
    "<a id=\"dep\"></a>"
   ]
  },
  {
   "cell_type": "markdown",
   "metadata": {},
   "source": [
    "### 1. Import dependencies\n"
   ]
  },
  {
   "cell_type": "code",
   "execution_count": 3490,
   "metadata": {
    "_cell_guid": "ea722c5a-65c6-4759-b664-f3b047be04c7",
    "_uuid": "55b1df09405d5644e4072a5c42d143ccca74ac25",
    "collapsed": true,
    "scrolled": true
   },
   "outputs": [],
   "source": [
    "#importing dependencies \n",
    "import numpy as np \n",
    "import pandas as pd \n",
    "import matplotlib.pyplot as plt\n",
    "import seaborn as sns\n",
    "\n",
    "from sklearn.linear_model import LogisticRegression\n",
    "from sklearn.model_selection import train_test_split\n",
    "from sklearn.svm import LinearSVC\n",
    "from sklearn.neighbors import KNeighborsClassifier\n",
    "from sklearn.svm import SVC\n",
    "from sklearn.ensemble import RandomForestClassifier, AdaBoostClassifier\n",
    "%matplotlib inline"
   ]
  },
  {
   "cell_type": "markdown",
   "metadata": {},
   "source": [
    "<a id=\"data\"></a>"
   ]
  },
  {
   "cell_type": "markdown",
   "metadata": {
    "_cell_guid": "4a668ffa-b97e-40de-94f5-fbc34ae2c21c",
    "_uuid": "c94928e846a95ebf4eb85e90dae81820a7f668f7"
   },
   "source": [
    "### 2. Import datasets"
   ]
  },
  {
   "cell_type": "code",
   "execution_count": 3491,
   "metadata": {
    "_cell_guid": "752f97fc-8f7b-46a7-93f5-a18bfcdaf20a",
    "_uuid": "b4daf89bbfdee024101b4d443b3818a2ca2df61f",
    "collapsed": true
   },
   "outputs": [],
   "source": [
    "train_df = pd.read_csv(\"./input/train1.csv\") # train dataset\n",
    "test_df = pd.read_csv(\"./input/test1.csv\") # test dataset\n",
    "combined_df = [train_df, test_df] #combined datasets - I'll use this in loops replacing values in both datasets \n",
    "\n",
    "#transforming column names to lower case\n",
    "for df in combined_df:\n",
    "    df.columns = [x.lower() for x in df.columns]\n"
   ]
  },
  {
   "cell_type": "markdown",
   "metadata": {},
   "source": [
    "<a id=\"prep\"></a>"
   ]
  },
  {
   "cell_type": "markdown",
   "metadata": {},
   "source": [
    " ### 3. Data preparation"
   ]
  },
  {
   "cell_type": "markdown",
   "metadata": {
    "_cell_guid": "ef42f2a8-8c3a-4cc6-bb5e-f57634871ee8",
    "_uuid": "510aec064c3faefc4af8922301b8b2a096ff2ab7"
   },
   "source": [
    " Let's take a look at what our train and test datasets look like!"
   ]
  },
  {
   "cell_type": "code",
   "execution_count": 3492,
   "metadata": {
    "_cell_guid": "cf8db878-b269-4b6b-86fc-0a15ba62c207",
    "_uuid": "f8fc741930863e3714e8a71fcc22c80ffc65f669",
    "scrolled": false
   },
   "outputs": [
    {
     "data": {
      "text/html": [
       "<div>\n",
       "<style>\n",
       "    .dataframe thead tr:only-child th {\n",
       "        text-align: right;\n",
       "    }\n",
       "\n",
       "    .dataframe thead th {\n",
       "        text-align: left;\n",
       "    }\n",
       "\n",
       "    .dataframe tbody tr th {\n",
       "        vertical-align: top;\n",
       "    }\n",
       "</style>\n",
       "<table border=\"1\" class=\"dataframe\">\n",
       "  <thead>\n",
       "    <tr style=\"text-align: right;\">\n",
       "      <th></th>\n",
       "      <th>passengerid</th>\n",
       "      <th>survived</th>\n",
       "      <th>pclass</th>\n",
       "      <th>name</th>\n",
       "      <th>sex</th>\n",
       "      <th>age</th>\n",
       "      <th>sibsp</th>\n",
       "      <th>parch</th>\n",
       "      <th>ticket</th>\n",
       "      <th>fare</th>\n",
       "      <th>cabin</th>\n",
       "      <th>embarked</th>\n",
       "    </tr>\n",
       "  </thead>\n",
       "  <tbody>\n",
       "    <tr>\n",
       "      <th>0</th>\n",
       "      <td>1</td>\n",
       "      <td>0</td>\n",
       "      <td>3</td>\n",
       "      <td>Braund, Mr. Owen Harris</td>\n",
       "      <td>male</td>\n",
       "      <td>22.0</td>\n",
       "      <td>1</td>\n",
       "      <td>0</td>\n",
       "      <td>A/5 21171</td>\n",
       "      <td>7.2500</td>\n",
       "      <td>NaN</td>\n",
       "      <td>S</td>\n",
       "    </tr>\n",
       "    <tr>\n",
       "      <th>1</th>\n",
       "      <td>2</td>\n",
       "      <td>1</td>\n",
       "      <td>1</td>\n",
       "      <td>Cumings, Mrs. John Bradley (Florence Briggs Th...</td>\n",
       "      <td>female</td>\n",
       "      <td>38.0</td>\n",
       "      <td>1</td>\n",
       "      <td>0</td>\n",
       "      <td>PC 17599</td>\n",
       "      <td>71.2833</td>\n",
       "      <td>C85</td>\n",
       "      <td>C</td>\n",
       "    </tr>\n",
       "    <tr>\n",
       "      <th>2</th>\n",
       "      <td>3</td>\n",
       "      <td>1</td>\n",
       "      <td>3</td>\n",
       "      <td>Heikkinen, Miss. Laina</td>\n",
       "      <td>female</td>\n",
       "      <td>26.0</td>\n",
       "      <td>0</td>\n",
       "      <td>0</td>\n",
       "      <td>STON/O2. 3101282</td>\n",
       "      <td>7.9250</td>\n",
       "      <td>NaN</td>\n",
       "      <td>S</td>\n",
       "    </tr>\n",
       "    <tr>\n",
       "      <th>3</th>\n",
       "      <td>4</td>\n",
       "      <td>1</td>\n",
       "      <td>1</td>\n",
       "      <td>Futrelle, Mrs. Jacques Heath (Lily May Peel)</td>\n",
       "      <td>female</td>\n",
       "      <td>35.0</td>\n",
       "      <td>1</td>\n",
       "      <td>0</td>\n",
       "      <td>113803</td>\n",
       "      <td>53.1000</td>\n",
       "      <td>C123</td>\n",
       "      <td>S</td>\n",
       "    </tr>\n",
       "    <tr>\n",
       "      <th>4</th>\n",
       "      <td>5</td>\n",
       "      <td>0</td>\n",
       "      <td>3</td>\n",
       "      <td>Allen, Mr. William Henry</td>\n",
       "      <td>male</td>\n",
       "      <td>35.0</td>\n",
       "      <td>0</td>\n",
       "      <td>0</td>\n",
       "      <td>373450</td>\n",
       "      <td>8.0500</td>\n",
       "      <td>NaN</td>\n",
       "      <td>S</td>\n",
       "    </tr>\n",
       "  </tbody>\n",
       "</table>\n",
       "</div>"
      ],
      "text/plain": [
       "   passengerid  survived  pclass  \\\n",
       "0            1         0       3   \n",
       "1            2         1       1   \n",
       "2            3         1       3   \n",
       "3            4         1       1   \n",
       "4            5         0       3   \n",
       "\n",
       "                                                name     sex   age  sibsp  \\\n",
       "0                            Braund, Mr. Owen Harris    male  22.0      1   \n",
       "1  Cumings, Mrs. John Bradley (Florence Briggs Th...  female  38.0      1   \n",
       "2                             Heikkinen, Miss. Laina  female  26.0      0   \n",
       "3       Futrelle, Mrs. Jacques Heath (Lily May Peel)  female  35.0      1   \n",
       "4                           Allen, Mr. William Henry    male  35.0      0   \n",
       "\n",
       "   parch            ticket     fare cabin embarked  \n",
       "0      0         A/5 21171   7.2500   NaN        S  \n",
       "1      0          PC 17599  71.2833   C85        C  \n",
       "2      0  STON/O2. 3101282   7.9250   NaN        S  \n",
       "3      0            113803  53.1000  C123        S  \n",
       "4      0            373450   8.0500   NaN        S  "
      ]
     },
     "execution_count": 3492,
     "metadata": {},
     "output_type": "execute_result"
    }
   ],
   "source": [
    "train_df.head()"
   ]
  },
  {
   "cell_type": "code",
   "execution_count": 3493,
   "metadata": {
    "_cell_guid": "e38063a9-e4db-411b-92d4-389fdd214947",
    "_uuid": "5372c55374f424c797d038a8841a2dc45f69d8ef",
    "scrolled": false
   },
   "outputs": [
    {
     "data": {
      "text/html": [
       "<div>\n",
       "<style>\n",
       "    .dataframe thead tr:only-child th {\n",
       "        text-align: right;\n",
       "    }\n",
       "\n",
       "    .dataframe thead th {\n",
       "        text-align: left;\n",
       "    }\n",
       "\n",
       "    .dataframe tbody tr th {\n",
       "        vertical-align: top;\n",
       "    }\n",
       "</style>\n",
       "<table border=\"1\" class=\"dataframe\">\n",
       "  <thead>\n",
       "    <tr style=\"text-align: right;\">\n",
       "      <th></th>\n",
       "      <th>passengerid</th>\n",
       "      <th>pclass</th>\n",
       "      <th>name</th>\n",
       "      <th>sex</th>\n",
       "      <th>age</th>\n",
       "      <th>sibsp</th>\n",
       "      <th>parch</th>\n",
       "      <th>ticket</th>\n",
       "      <th>fare</th>\n",
       "      <th>cabin</th>\n",
       "      <th>embarked</th>\n",
       "    </tr>\n",
       "  </thead>\n",
       "  <tbody>\n",
       "    <tr>\n",
       "      <th>0</th>\n",
       "      <td>892</td>\n",
       "      <td>3</td>\n",
       "      <td>Kelly, Mr. James</td>\n",
       "      <td>male</td>\n",
       "      <td>34.5</td>\n",
       "      <td>0</td>\n",
       "      <td>0</td>\n",
       "      <td>330911</td>\n",
       "      <td>7.8292</td>\n",
       "      <td>NaN</td>\n",
       "      <td>Q</td>\n",
       "    </tr>\n",
       "    <tr>\n",
       "      <th>1</th>\n",
       "      <td>893</td>\n",
       "      <td>3</td>\n",
       "      <td>Wilkes, Mrs. James (Ellen Needs)</td>\n",
       "      <td>female</td>\n",
       "      <td>47.0</td>\n",
       "      <td>1</td>\n",
       "      <td>0</td>\n",
       "      <td>363272</td>\n",
       "      <td>7.0000</td>\n",
       "      <td>NaN</td>\n",
       "      <td>S</td>\n",
       "    </tr>\n",
       "    <tr>\n",
       "      <th>2</th>\n",
       "      <td>894</td>\n",
       "      <td>2</td>\n",
       "      <td>Myles, Mr. Thomas Francis</td>\n",
       "      <td>male</td>\n",
       "      <td>62.0</td>\n",
       "      <td>0</td>\n",
       "      <td>0</td>\n",
       "      <td>240276</td>\n",
       "      <td>9.6875</td>\n",
       "      <td>NaN</td>\n",
       "      <td>Q</td>\n",
       "    </tr>\n",
       "    <tr>\n",
       "      <th>3</th>\n",
       "      <td>895</td>\n",
       "      <td>3</td>\n",
       "      <td>Wirz, Mr. Albert</td>\n",
       "      <td>male</td>\n",
       "      <td>27.0</td>\n",
       "      <td>0</td>\n",
       "      <td>0</td>\n",
       "      <td>315154</td>\n",
       "      <td>8.6625</td>\n",
       "      <td>NaN</td>\n",
       "      <td>S</td>\n",
       "    </tr>\n",
       "    <tr>\n",
       "      <th>4</th>\n",
       "      <td>896</td>\n",
       "      <td>3</td>\n",
       "      <td>Hirvonen, Mrs. Alexander (Helga E Lindqvist)</td>\n",
       "      <td>female</td>\n",
       "      <td>22.0</td>\n",
       "      <td>1</td>\n",
       "      <td>1</td>\n",
       "      <td>3101298</td>\n",
       "      <td>12.2875</td>\n",
       "      <td>NaN</td>\n",
       "      <td>S</td>\n",
       "    </tr>\n",
       "  </tbody>\n",
       "</table>\n",
       "</div>"
      ],
      "text/plain": [
       "   passengerid  pclass                                          name     sex  \\\n",
       "0          892       3                              Kelly, Mr. James    male   \n",
       "1          893       3              Wilkes, Mrs. James (Ellen Needs)  female   \n",
       "2          894       2                     Myles, Mr. Thomas Francis    male   \n",
       "3          895       3                              Wirz, Mr. Albert    male   \n",
       "4          896       3  Hirvonen, Mrs. Alexander (Helga E Lindqvist)  female   \n",
       "\n",
       "    age  sibsp  parch   ticket     fare cabin embarked  \n",
       "0  34.5      0      0   330911   7.8292   NaN        Q  \n",
       "1  47.0      1      0   363272   7.0000   NaN        S  \n",
       "2  62.0      0      0   240276   9.6875   NaN        Q  \n",
       "3  27.0      0      0   315154   8.6625   NaN        S  \n",
       "4  22.0      1      1  3101298  12.2875   NaN        S  "
      ]
     },
     "execution_count": 3493,
     "metadata": {},
     "output_type": "execute_result"
    }
   ],
   "source": [
    "test_df.head()"
   ]
  },
  {
   "cell_type": "markdown",
   "metadata": {},
   "source": [
    "I wonder how many of the variables have missing values (I'll deal with these later)."
   ]
  },
  {
   "cell_type": "code",
   "execution_count": 3494,
   "metadata": {},
   "outputs": [
    {
     "name": "stdout",
     "output_type": "stream",
     "text": [
      "<class 'pandas.core.frame.DataFrame'>\n",
      "RangeIndex: 891 entries, 0 to 890\n",
      "Data columns (total 12 columns):\n",
      "passengerid    891 non-null int64\n",
      "survived       891 non-null int64\n",
      "pclass         891 non-null int64\n",
      "name           891 non-null object\n",
      "sex            891 non-null object\n",
      "age            714 non-null float64\n",
      "sibsp          891 non-null int64\n",
      "parch          891 non-null int64\n",
      "ticket         891 non-null object\n",
      "fare           891 non-null float64\n",
      "cabin          204 non-null object\n",
      "embarked       889 non-null object\n",
      "dtypes: float64(2), int64(5), object(5)\n",
      "memory usage: 83.6+ KB\n",
      "________________________________________\n",
      "<class 'pandas.core.frame.DataFrame'>\n",
      "RangeIndex: 418 entries, 0 to 417\n",
      "Data columns (total 11 columns):\n",
      "passengerid    418 non-null int64\n",
      "pclass         418 non-null int64\n",
      "name           418 non-null object\n",
      "sex            418 non-null object\n",
      "age            332 non-null float64\n",
      "sibsp          418 non-null int64\n",
      "parch          418 non-null int64\n",
      "ticket         418 non-null object\n",
      "fare           417 non-null float64\n",
      "cabin          91 non-null object\n",
      "embarked       418 non-null object\n",
      "dtypes: float64(2), int64(4), object(5)\n",
      "memory usage: 36.0+ KB\n"
     ]
    }
   ],
   "source": [
    "train_df.info()\n",
    "print('_'*40)\n",
    "test_df.info()"
   ]
  },
  {
   "cell_type": "markdown",
   "metadata": {},
   "source": [
    "<a id=\"pclass\"></a>"
   ]
  },
  {
   "cell_type": "markdown",
   "metadata": {
    "_cell_guid": "4d15406a-6647-4dc0-9c97-32a52987751d",
    "_uuid": "385ada27ae3eb33c72bd2b1cd7c38a3765efee57"
   },
   "source": [
    "#### Let's explore some of the variables which may be predictive of survival"
   ]
  },
  {
   "cell_type": "markdown",
   "metadata": {
    "_cell_guid": "4cf6ed64-c46b-455b-a317-9f3567b4f1d1",
    "_uuid": "3c324014c77cfe3e2bcbc263045b66f464fcc733"
   },
   "source": [
    "### 3.1.  Pclass\n",
    "Pclass is a variable indicating the class of passenger's ticket, which could be seen as a proxy for socio-economic status... or frugality. (I'm not sure if I'm serious)\n",
    "\n",
    "It'd be useful to know the distribution of this variable.\n"
   ]
  },
  {
   "cell_type": "code",
   "execution_count": 3495,
   "metadata": {
    "_cell_guid": "0428e8a9-f7f2-4421-848d-0308e35e5683",
    "_uuid": "c2558ad948cb5ef1b708c20c7a8833f402fd92a4",
    "scrolled": false
   },
   "outputs": [
    {
     "data": {
      "text/plain": [
       "3    491\n",
       "1    216\n",
       "2    184\n",
       "Name: pclass, dtype: int64"
      ]
     },
     "execution_count": 3495,
     "metadata": {},
     "output_type": "execute_result"
    }
   ],
   "source": [
    "train_df['pclass'].value_counts()"
   ]
  },
  {
   "cell_type": "code",
   "execution_count": 3496,
   "metadata": {
    "_cell_guid": "cd456020-8374-4452-8cc7-5f82d3fcdf6e",
    "_uuid": "610b82e6543404ea5fd591c6520cd81f77d88448",
    "scrolled": true
   },
   "outputs": [
    {
     "data": {
      "text/html": [
       "<div>\n",
       "<style>\n",
       "    .dataframe thead tr:only-child th {\n",
       "        text-align: right;\n",
       "    }\n",
       "\n",
       "    .dataframe thead th {\n",
       "        text-align: left;\n",
       "    }\n",
       "\n",
       "    .dataframe tbody tr th {\n",
       "        vertical-align: top;\n",
       "    }\n",
       "</style>\n",
       "<table border=\"1\" class=\"dataframe\">\n",
       "  <thead>\n",
       "    <tr style=\"text-align: right;\">\n",
       "      <th></th>\n",
       "      <th>survived</th>\n",
       "    </tr>\n",
       "    <tr>\n",
       "      <th>pclass</th>\n",
       "      <th></th>\n",
       "    </tr>\n",
       "  </thead>\n",
       "  <tbody>\n",
       "    <tr>\n",
       "      <th>1</th>\n",
       "      <td>0.629630</td>\n",
       "    </tr>\n",
       "    <tr>\n",
       "      <th>2</th>\n",
       "      <td>0.472826</td>\n",
       "    </tr>\n",
       "    <tr>\n",
       "      <th>3</th>\n",
       "      <td>0.242363</td>\n",
       "    </tr>\n",
       "  </tbody>\n",
       "</table>\n",
       "</div>"
      ],
      "text/plain": [
       "        survived\n",
       "pclass          \n",
       "1       0.629630\n",
       "2       0.472826\n",
       "3       0.242363"
      ]
     },
     "execution_count": 3496,
     "metadata": {},
     "output_type": "execute_result"
    }
   ],
   "source": [
    "train_df[[\"survived\"]].groupby(train_df[\"pclass\"]).mean()"
   ]
  },
  {
   "cell_type": "code",
   "execution_count": 3497,
   "metadata": {},
   "outputs": [
    {
     "data": {
      "text/plain": [
       "<matplotlib.axes._subplots.AxesSubplot at 0x18ddb8358>"
      ]
     },
     "execution_count": 3497,
     "metadata": {},
     "output_type": "execute_result"
    },
    {
     "data": {
      "image/png": "[encoded data removed]",
      "text/plain": [
       "<matplotlib.figure.Figure at 0x18dda44a8>"
      ]
     },
     "metadata": {},
     "output_type": "display_data"
    }
   ],
   "source": [
    "sns.countplot(train_df[\"pclass\"],hue=train_df[\"survived\"],palette=\"colorblind\")"
   ]
  },
  {
   "cell_type": "markdown",
   "metadata": {
    "_cell_guid": "1ba75127-66b2-4219-ba4e-1278fc7c51e3",
    "_uuid": "f996b3bcaee9622fb105dcc06333b53f5c597ee2"
   },
   "source": [
    "It looks like there's might be a correlation between passenger's ticket class and their probability of survival.\n",
    "It may also have something to do with placement of cabins; I'd assume more expensive cabins were placed higher up on the boat, perhaps making it easier to get to the main deck, where passengers were allocated to lifeboats. \n",
    "\n",
    "Let's keep this hypothesis in mind while looking at the 'cabin' variable. "
   ]
  },
  {
   "cell_type": "markdown",
   "metadata": {},
   "source": [
    "<a id=\"sex\"></a>"
   ]
  },
  {
   "cell_type": "markdown",
   "metadata": {
    "_cell_guid": "98ed3a4e-d133-4e2a-aa3a-2c1a2b2c064d",
    "_uuid": "c2662aae68fd002f8bd8ca146a9191d8e8e05e93"
   },
   "source": [
    "### 3.2. Sex \n",
    "Passenger's sex is definitely worth including in the model (\"Women and children first\" and all). \n",
    "Out of curiosity  - let's see the distribution of this one, and how it correlates with survival."
   ]
  },
  {
   "cell_type": "code",
   "execution_count": 3498,
   "metadata": {
    "_cell_guid": "ef16ab62-2f9d-4261-83c7-df13cc6f4821",
    "_uuid": "e0d249624a4e4c8a89a848f58f9d62db5dde4e07",
    "scrolled": true
   },
   "outputs": [
    {
     "data": {
      "text/html": [
       "<div>\n",
       "<style>\n",
       "    .dataframe thead tr:only-child th {\n",
       "        text-align: right;\n",
       "    }\n",
       "\n",
       "    .dataframe thead th {\n",
       "        text-align: left;\n",
       "    }\n",
       "\n",
       "    .dataframe tbody tr th {\n",
       "        vertical-align: top;\n",
       "    }\n",
       "</style>\n",
       "<table border=\"1\" class=\"dataframe\">\n",
       "  <thead>\n",
       "    <tr style=\"text-align: right;\">\n",
       "      <th>survived</th>\n",
       "      <th>0</th>\n",
       "      <th>1</th>\n",
       "    </tr>\n",
       "    <tr>\n",
       "      <th>sex</th>\n",
       "      <th></th>\n",
       "      <th></th>\n",
       "    </tr>\n",
       "  </thead>\n",
       "  <tbody>\n",
       "    <tr>\n",
       "      <th>female</th>\n",
       "      <td>0.147541</td>\n",
       "      <td>0.681287</td>\n",
       "    </tr>\n",
       "    <tr>\n",
       "      <th>male</th>\n",
       "      <td>0.852459</td>\n",
       "      <td>0.318713</td>\n",
       "    </tr>\n",
       "  </tbody>\n",
       "</table>\n",
       "</div>"
      ],
      "text/plain": [
       "survived         0         1\n",
       "sex                         \n",
       "female    0.147541  0.681287\n",
       "male      0.852459  0.318713"
      ]
     },
     "execution_count": 3498,
     "metadata": {},
     "output_type": "execute_result"
    }
   ],
   "source": [
    "crosstab = pd.crosstab(train_df[\"sex\"],train_df[\"survived\"])\n",
    "crosstab/crosstab.sum(axis=0)"
   ]
  },
  {
   "cell_type": "markdown",
   "metadata": {
    "_cell_guid": "d67f878b-7197-46df-a110-cb43e28cf24b",
    "_uuid": "3ce451450ec80a429057fcc3ae70e68b83fcabae"
   },
   "source": [
    "Out of the patients who survived, 68.1% were female; while only 14.8% of casualties were female.[](http://)"
   ]
  },
  {
   "cell_type": "code",
   "execution_count": 3499,
   "metadata": {},
   "outputs": [
    {
     "data": {
      "text/plain": [
       "sex\n",
       "female    0.742038\n",
       "male      0.188908\n",
       "Name: survived, dtype: float64"
      ]
     },
     "execution_count": 3499,
     "metadata": {},
     "output_type": "execute_result"
    }
   ],
   "source": [
    "train_df.groupby('sex')['survived'].mean()\n"
   ]
  },
  {
   "cell_type": "markdown",
   "metadata": {},
   "source": [
    "74% of women on board survived; among males, only 19% survived."
   ]
  },
  {
   "cell_type": "code",
   "execution_count": 3500,
   "metadata": {
    "scrolled": true
   },
   "outputs": [
    {
     "data": {
      "text/plain": [
       "<matplotlib.axes._subplots.AxesSubplot at 0x18d909d68>"
      ]
     },
     "execution_count": 3500,
     "metadata": {},
     "output_type": "execute_result"
    },
    {
     "data": {
      "image/png": "[encoded data removed]",
      "text/plain": [
       "<matplotlib.figure.Figure at 0x18dbc5dd8>"
      ]
     },
     "metadata": {},
     "output_type": "display_data"
    }
   ],
   "source": [
    "sns.countplot(train_df[\"sex\"],hue=train_df[\"survived\"],palette=\"colorblind\")"
   ]
  },
  {
   "cell_type": "markdown",
   "metadata": {},
   "source": [
    "<a id=\"age\"></a>"
   ]
  },
  {
   "cell_type": "markdown",
   "metadata": {
    "_cell_guid": "d1ecf2ca-4bd4-486c-b33f-4aa59d5fab11",
    "_uuid": "7971523e230956ce54bea6da5cfb9f7aaa1c89b0"
   },
   "source": [
    "### 3.3. Age\n",
    "I'm sure age is also worth including, nonetheless it's always a good idea to look at the distributions.\n"
   ]
  },
  {
   "cell_type": "code",
   "execution_count": 3501,
   "metadata": {
    "_cell_guid": "b1b9349c-217e-43e6-882e-b5f31b05d9d8",
    "_uuid": "f8974963e7ef4d08d587abcef5ab57667b79a6fc",
    "scrolled": false
   },
   "outputs": [
    {
     "data": {
      "text/plain": [
       "<matplotlib.axes._subplots.AxesSubplot at 0x18de1e6d8>"
      ]
     },
     "execution_count": 3501,
     "metadata": {},
     "output_type": "execute_result"
    },
    {
     "data": {
      "image/png": "[encoded data removed]",
      "text/plain": [
       "<matplotlib.figure.Figure at 0x18df247f0>"
      ]
     },
     "metadata": {},
     "output_type": "display_data"
    }
   ],
   "source": [
    "sns.distplot(train_df[\"age\"].dropna())\n"
   ]
  },
  {
   "cell_type": "markdown",
   "metadata": {},
   "source": [
    "Although there are no apparent miscoding issues/unlikely ages (>120 or <0), what's little bit surprising is the number of infants on board, but I wouldn't worry about this too much. Maybe passengers got free luggage for every infant, which incentivised declaring a lower age while buying tickets, or something. (I'm not sure if I'm serious or not)"
   ]
  },
  {
   "cell_type": "code",
   "execution_count": 3502,
   "metadata": {
    "_cell_guid": "0bd7c169-82a7-42a1-9d76-b3dd11c64607",
    "_uuid": "1e053d7426ce020635c2078475d9e2707f0c9c25",
    "scrolled": false
   },
   "outputs": [
    {
     "name": "stderr",
     "output_type": "stream",
     "text": [
      "/Users/raf/anaconda/lib/python3.6/site-packages/IPython/core/displayhook.py:260: UserWarning: Output cache limit (currently 1000 entries) hit.\n",
      "Flushing oldest 200 entries.\n",
      "  'Flushing oldest {cull_count} entries.'.format(sz=sz, cull_count=cull_count))\n"
     ]
    },
    {
     "data": {
      "text/plain": [
       "<seaborn.axisgrid.FacetGrid at 0x18e10d7b8>"
      ]
     },
     "execution_count": 3502,
     "metadata": {},
     "output_type": "execute_result"
    },
    {
     "data": {
      "image/png": "[encoded data removed]",
      "text/plain": [
       "<matplotlib.figure.Figure at 0x18d913978>"
      ]
     },
     "metadata": {},
     "output_type": "display_data"
    }
   ],
   "source": [
    "facet = sns.FacetGrid(train_df, hue=\"survived\",aspect=2)\n",
    "facet.map(sns.kdeplot,'age',shade= True)\n",
    "facet.set(xlim=(0, train_df['age'].max()))\n",
    "facet.add_legend()"
   ]
  },
  {
   "cell_type": "markdown",
   "metadata": {
    "_cell_guid": "ddc425fa-1783-4a21-8b08-abbd90de4b9e",
    "_uuid": "071f73c0490f4f8075e23d64ee9ce1d74e6e0343",
    "collapsed": true,
    "scrolled": true
   },
   "source": [
    "As expected, children seem to have higher survival rate compared to adult passengers. Passengers over 60 appear to be less likely to survive. Passengers between 15 and 30 seem to be overrepresented in the list of casualties. I'll create 3 age bands to reflect these 3 subgroups:\n",
    "\n",
    "i) Children and teenagers between 0 and 15 [coded as 0]\n",
    "\n",
    "ii) Age of 15 to 60 years\n",
    "\n",
    "iii) Age of 61 to 100 years"
   ]
  },
  {
   "cell_type": "markdown",
   "metadata": {},
   "source": [
    "As I'm deriving a variable I need to get ahead of myself and impute missing age values (this chapter has a separate chapter where I impute other missing values). I'll use median age for that."
   ]
  },
  {
   "cell_type": "code",
   "execution_count": 3503,
   "metadata": {
    "collapsed": true
   },
   "outputs": [],
   "source": [
    "for df in combined_df:\n",
    "    df[\"age\"].fillna(df[\"age\"].dropna().median(), inplace=True)"
   ]
  },
  {
   "cell_type": "markdown",
   "metadata": {},
   "source": [
    "<a id=\"ageband\"> </a>"
   ]
  },
  {
   "cell_type": "markdown",
   "metadata": {},
   "source": [
    "#### 3.3.1 [Derived] Ageband\n",
    "<a id=\"ageband\"> </a>"
   ]
  },
  {
   "cell_type": "code",
   "execution_count": 3504,
   "metadata": {
    "scrolled": false
   },
   "outputs": [
    {
     "data": {
      "text/html": [
       "<div>\n",
       "<style>\n",
       "    .dataframe thead tr:only-child th {\n",
       "        text-align: right;\n",
       "    }\n",
       "\n",
       "    .dataframe thead th {\n",
       "        text-align: left;\n",
       "    }\n",
       "\n",
       "    .dataframe tbody tr th {\n",
       "        vertical-align: top;\n",
       "    }\n",
       "</style>\n",
       "<table border=\"1\" class=\"dataframe\">\n",
       "  <thead>\n",
       "    <tr style=\"text-align: right;\">\n",
       "      <th></th>\n",
       "      <th>ageband</th>\n",
       "      <th>age</th>\n",
       "    </tr>\n",
       "  </thead>\n",
       "  <tbody>\n",
       "    <tr>\n",
       "      <th>0</th>\n",
       "      <td>1</td>\n",
       "      <td>34.5</td>\n",
       "    </tr>\n",
       "    <tr>\n",
       "      <th>1</th>\n",
       "      <td>1</td>\n",
       "      <td>47.0</td>\n",
       "    </tr>\n",
       "    <tr>\n",
       "      <th>2</th>\n",
       "      <td>2</td>\n",
       "      <td>62.0</td>\n",
       "    </tr>\n",
       "    <tr>\n",
       "      <th>3</th>\n",
       "      <td>1</td>\n",
       "      <td>27.0</td>\n",
       "    </tr>\n",
       "    <tr>\n",
       "      <th>4</th>\n",
       "      <td>1</td>\n",
       "      <td>22.0</td>\n",
       "    </tr>\n",
       "    <tr>\n",
       "      <th>5</th>\n",
       "      <td>0</td>\n",
       "      <td>14.0</td>\n",
       "    </tr>\n",
       "    <tr>\n",
       "      <th>6</th>\n",
       "      <td>1</td>\n",
       "      <td>30.0</td>\n",
       "    </tr>\n",
       "    <tr>\n",
       "      <th>7</th>\n",
       "      <td>1</td>\n",
       "      <td>26.0</td>\n",
       "    </tr>\n",
       "    <tr>\n",
       "      <th>8</th>\n",
       "      <td>1</td>\n",
       "      <td>18.0</td>\n",
       "    </tr>\n",
       "    <tr>\n",
       "      <th>9</th>\n",
       "      <td>1</td>\n",
       "      <td>21.0</td>\n",
       "    </tr>\n",
       "  </tbody>\n",
       "</table>\n",
       "</div>"
      ],
      "text/plain": [
       "   ageband   age\n",
       "0        1  34.5\n",
       "1        1  47.0\n",
       "2        2  62.0\n",
       "3        1  27.0\n",
       "4        1  22.0\n",
       "5        0  14.0\n",
       "6        1  30.0\n",
       "7        1  26.0\n",
       "8        1  18.0\n",
       "9        1  21.0"
      ]
     },
     "execution_count": 3504,
     "metadata": {},
     "output_type": "execute_result"
    }
   ],
   "source": [
    "for df in combined_df:\n",
    "    df['ageband'] = [0 if x <15 else 1 if x > 15 and x < 60 else 2 for x in df['age']]\n",
    "    \n",
    "df[['ageband','age']].head(10)"
   ]
  },
  {
   "cell_type": "code",
   "execution_count": 3505,
   "metadata": {
    "collapsed": true
   },
   "outputs": [],
   "source": [
    "# Edit: I decided to include only age encoded into age_bands. Continuous 'age' variable will be dropped\n",
    "\n",
    "test_df.drop(\"age\", axis=1, inplace=True)\n",
    "train_df.drop(\"age\", axis=1, inplace=True)"
   ]
  },
  {
   "cell_type": "markdown",
   "metadata": {},
   "source": [
    "<a id=\"sibsp\"></a>"
   ]
  },
  {
   "cell_type": "markdown",
   "metadata": {
    "_cell_guid": "48a6e49e-0bb3-46ff-87d9-1970755e1105",
    "_uuid": "d7a8003e49ccfd7371124d5b568aaa14f50573ba",
    "collapsed": true
   },
   "source": [
    "### 3.4. SibSp\n",
    "SibSp indicates number of passenger's Siblings and Spouses on board\n"
   ]
  },
  {
   "cell_type": "code",
   "execution_count": 3506,
   "metadata": {
    "_cell_guid": "71dedcbe-fed7-4c0d-99e2-edc7828e4083",
    "_uuid": "79c8021f7e6c49bff87bed018b9315e273ceaab8",
    "scrolled": true
   },
   "outputs": [
    {
     "data": {
      "text/plain": [
       "<matplotlib.axes._subplots.AxesSubplot at 0x18e11ce10>"
      ]
     },
     "execution_count": 3506,
     "metadata": {},
     "output_type": "execute_result"
    },
    {
     "data": {
      "image/png": "[encoded data removed]",
      "text/plain": [
       "<matplotlib.figure.Figure at 0x18e148588>"
      ]
     },
     "metadata": {},
     "output_type": "display_data"
    }
   ],
   "source": [
    "sns.countplot(train_df[\"sibsp\"],palette=\"colorblind\")"
   ]
  },
  {
   "cell_type": "code",
   "execution_count": 3507,
   "metadata": {},
   "outputs": [
    {
     "data": {
      "text/plain": [
       "<matplotlib.axes._subplots.AxesSubplot at 0x18e3b30b8>"
      ]
     },
     "execution_count": 3507,
     "metadata": {},
     "output_type": "execute_result"
    },
    {
     "data": {
      "image/png": "[encoded data removed]",
      "text/plain": [
       "<matplotlib.figure.Figure at 0x18e3a9630>"
      ]
     },
     "metadata": {},
     "output_type": "display_data"
    }
   ],
   "source": [
    "sns.countplot(train_df[\"sibsp\"],hue=train_df[\"survived\"],palette=\"colorblind\")"
   ]
  },
  {
   "cell_type": "code",
   "execution_count": 3508,
   "metadata": {
    "_cell_guid": "e4cde3bb-3409-41c0-81b3-54b684cd6d7b",
    "_uuid": "af871003b7bffd3c2fca2a11d53e0fd630b2c9ce"
   },
   "outputs": [
    {
     "data": {
      "text/html": [
       "<div>\n",
       "<style>\n",
       "    .dataframe thead tr:only-child th {\n",
       "        text-align: right;\n",
       "    }\n",
       "\n",
       "    .dataframe thead th {\n",
       "        text-align: left;\n",
       "    }\n",
       "\n",
       "    .dataframe tbody tr th {\n",
       "        vertical-align: top;\n",
       "    }\n",
       "</style>\n",
       "<table border=\"1\" class=\"dataframe\">\n",
       "  <thead>\n",
       "    <tr style=\"text-align: right;\">\n",
       "      <th></th>\n",
       "      <th>sibsp</th>\n",
       "      <th>survived</th>\n",
       "    </tr>\n",
       "  </thead>\n",
       "  <tbody>\n",
       "    <tr>\n",
       "      <th>0</th>\n",
       "      <td>0</td>\n",
       "      <td>0.345395</td>\n",
       "    </tr>\n",
       "    <tr>\n",
       "      <th>1</th>\n",
       "      <td>1</td>\n",
       "      <td>0.535885</td>\n",
       "    </tr>\n",
       "    <tr>\n",
       "      <th>2</th>\n",
       "      <td>2</td>\n",
       "      <td>0.464286</td>\n",
       "    </tr>\n",
       "    <tr>\n",
       "      <th>3</th>\n",
       "      <td>3</td>\n",
       "      <td>0.250000</td>\n",
       "    </tr>\n",
       "    <tr>\n",
       "      <th>4</th>\n",
       "      <td>4</td>\n",
       "      <td>0.166667</td>\n",
       "    </tr>\n",
       "    <tr>\n",
       "      <th>5</th>\n",
       "      <td>5</td>\n",
       "      <td>0.000000</td>\n",
       "    </tr>\n",
       "    <tr>\n",
       "      <th>6</th>\n",
       "      <td>8</td>\n",
       "      <td>0.000000</td>\n",
       "    </tr>\n",
       "  </tbody>\n",
       "</table>\n",
       "</div>"
      ],
      "text/plain": [
       "   sibsp  survived\n",
       "0      0  0.345395\n",
       "1      1  0.535885\n",
       "2      2  0.464286\n",
       "3      3  0.250000\n",
       "4      4  0.166667\n",
       "5      5  0.000000\n",
       "6      8  0.000000"
      ]
     },
     "execution_count": 3508,
     "metadata": {},
     "output_type": "execute_result"
    }
   ],
   "source": [
    "train_df[[\"sibsp\", \"survived\"]].groupby(['sibsp'], as_index=False).mean()"
   ]
  },
  {
   "cell_type": "markdown",
   "metadata": {
    "_cell_guid": "f0fe5d07-995c-43a3-8d45-307cc93be9ce",
    "_uuid": "01057a4fb36ade2e6f4b58209cddfca9eaebc6b6",
    "collapsed": true
   },
   "source": [
    "Passengers with no spouses and siblings (0) apppear to have lower survival rate. I think I'll derive more useful info from this variable if I combine it with the variable Parch (described below)."
   ]
  },
  {
   "cell_type": "markdown",
   "metadata": {},
   "source": [
    "<a id=\"parch\"></a>"
   ]
  },
  {
   "cell_type": "markdown",
   "metadata": {
    "_cell_guid": "c6b4459f-9c09-4086-88e2-d03fd9bda809",
    "_uuid": "215124160372f7a05d8b46fdc6eaa9a2d4c0e45b"
   },
   "source": [
    "### 3.5. Parch\n",
    "number of parents / children aboard the Titanic\t\n"
   ]
  },
  {
   "cell_type": "code",
   "execution_count": 3509,
   "metadata": {
    "_cell_guid": "19c1524f-fde2-44ba-846f-b8ad91728d3b",
    "_uuid": "39d3f628f1c9b8e08957f1852f3e1087aff62cf4",
    "scrolled": true
   },
   "outputs": [
    {
     "data": {
      "text/plain": [
       "<matplotlib.axes._subplots.AxesSubplot at 0x18e1bb978>"
      ]
     },
     "execution_count": 3509,
     "metadata": {},
     "output_type": "execute_result"
    },
    {
     "data": {
      "image/png": "[encoded data removed]",
      "text/plain": [
       "<matplotlib.figure.Figure at 0x18e28d780>"
      ]
     },
     "metadata": {},
     "output_type": "display_data"
    }
   ],
   "source": [
    "sns.countplot(train_df[\"parch\"],palette=\"colorblind\")"
   ]
  },
  {
   "cell_type": "code",
   "execution_count": 3510,
   "metadata": {},
   "outputs": [
    {
     "data": {
      "text/plain": [
       "0    678\n",
       "1    118\n",
       "2     80\n",
       "5      5\n",
       "3      5\n",
       "4      4\n",
       "6      1\n",
       "Name: parch, dtype: int64"
      ]
     },
     "execution_count": 3510,
     "metadata": {},
     "output_type": "execute_result"
    }
   ],
   "source": [
    "train_df[\"parch\"].value_counts(ascending=False)"
   ]
  },
  {
   "cell_type": "code",
   "execution_count": 3511,
   "metadata": {
    "scrolled": true
   },
   "outputs": [
    {
     "data": {
      "text/plain": [
       "<matplotlib.axes._subplots.AxesSubplot at 0x18e6859e8>"
      ]
     },
     "execution_count": 3511,
     "metadata": {},
     "output_type": "execute_result"
    },
    {
     "data": {
      "image/png": "[encoded data removed]",
      "text/plain": [
       "<matplotlib.figure.Figure at 0x18e64ee10>"
      ]
     },
     "metadata": {},
     "output_type": "display_data"
    }
   ],
   "source": [
    "sns.countplot(train_df[\"parch\"],hue=train_df[\"survived\"],palette=\"colorblind\")"
   ]
  },
  {
   "cell_type": "code",
   "execution_count": 3512,
   "metadata": {
    "_cell_guid": "01648985-31fc-4c68-b20a-13be21deadc7",
    "_uuid": "29b12ebb594011e27744d5909dd231de273ad6cb"
   },
   "outputs": [
    {
     "data": {
      "text/html": [
       "<div>\n",
       "<style>\n",
       "    .dataframe thead tr:only-child th {\n",
       "        text-align: right;\n",
       "    }\n",
       "\n",
       "    .dataframe thead th {\n",
       "        text-align: left;\n",
       "    }\n",
       "\n",
       "    .dataframe tbody tr th {\n",
       "        vertical-align: top;\n",
       "    }\n",
       "</style>\n",
       "<table border=\"1\" class=\"dataframe\">\n",
       "  <thead>\n",
       "    <tr style=\"text-align: right;\">\n",
       "      <th></th>\n",
       "      <th>sibsp</th>\n",
       "      <th>survived</th>\n",
       "    </tr>\n",
       "  </thead>\n",
       "  <tbody>\n",
       "    <tr>\n",
       "      <th>0</th>\n",
       "      <td>0</td>\n",
       "      <td>0.345395</td>\n",
       "    </tr>\n",
       "    <tr>\n",
       "      <th>1</th>\n",
       "      <td>1</td>\n",
       "      <td>0.535885</td>\n",
       "    </tr>\n",
       "    <tr>\n",
       "      <th>2</th>\n",
       "      <td>2</td>\n",
       "      <td>0.464286</td>\n",
       "    </tr>\n",
       "    <tr>\n",
       "      <th>3</th>\n",
       "      <td>3</td>\n",
       "      <td>0.250000</td>\n",
       "    </tr>\n",
       "    <tr>\n",
       "      <th>4</th>\n",
       "      <td>4</td>\n",
       "      <td>0.166667</td>\n",
       "    </tr>\n",
       "    <tr>\n",
       "      <th>5</th>\n",
       "      <td>5</td>\n",
       "      <td>0.000000</td>\n",
       "    </tr>\n",
       "    <tr>\n",
       "      <th>6</th>\n",
       "      <td>8</td>\n",
       "      <td>0.000000</td>\n",
       "    </tr>\n",
       "  </tbody>\n",
       "</table>\n",
       "</div>"
      ],
      "text/plain": [
       "   sibsp  survived\n",
       "0      0  0.345395\n",
       "1      1  0.535885\n",
       "2      2  0.464286\n",
       "3      3  0.250000\n",
       "4      4  0.166667\n",
       "5      5  0.000000\n",
       "6      8  0.000000"
      ]
     },
     "execution_count": 3512,
     "metadata": {},
     "output_type": "execute_result"
    }
   ],
   "source": [
    "train_df[[\"sibsp\", \"survived\"]].groupby(['sibsp'], as_index=False).mean().sort_values(by='sibsp', ascending=True)"
   ]
  },
  {
   "cell_type": "markdown",
   "metadata": {
    "_cell_guid": "0ea97918-0b0a-4aa5-953b-81615bfdf745",
    "_uuid": "3df96c2eda371b6aec9efc306d49833f3be25c41",
    "collapsed": true
   },
   "source": [
    "Let's combine Parch and SibSp and see if it's more meaningful. I'll add 1 to each entry to include the passenger herself. \n",
    "\n",
    "Note that Parch and SibSp don't have missing values, so we don't need to impute them"
   ]
  },
  {
   "cell_type": "markdown",
   "metadata": {},
   "source": [
    "<a id=\"familysize\")> </a>"
   ]
  },
  {
   "cell_type": "markdown",
   "metadata": {},
   "source": [
    "#### 3.5.1 [Derived] familysize (SibSp+Parch)"
   ]
  },
  {
   "cell_type": "code",
   "execution_count": 3513,
   "metadata": {
    "_cell_guid": "be8d6df4-9362-486a-8bea-629a479373aa",
    "_uuid": "fc4383269dd268b208cc4eb504a4320232d31594",
    "collapsed": true
   },
   "outputs": [],
   "source": [
    "for dataset in combined_df:\n",
    "    dataset[\"familysize\"] = dataset[\"parch\"] + dataset[\"sibsp\"] + 1 \n"
   ]
  },
  {
   "cell_type": "code",
   "execution_count": 3514,
   "metadata": {
    "_cell_guid": "aff27029-d2ea-43ce-89b0-144fc9d9997d",
    "_uuid": "03cfab5a76fd9ac9c178dcbbf3ffe52f21a394e6"
   },
   "outputs": [
    {
     "data": {
      "text/plain": [
       "<matplotlib.axes._subplots.AxesSubplot at 0x18e7e1cf8>"
      ]
     },
     "execution_count": 3514,
     "metadata": {},
     "output_type": "execute_result"
    },
    {
     "data": {
      "image/png": "[encoded data removed]",
      "text/plain": [
       "<matplotlib.figure.Figure at 0x18e39eb38>"
      ]
     },
     "metadata": {},
     "output_type": "display_data"
    }
   ],
   "source": [
    "sns.countplot(train_df[\"familysize\"],hue=train_df[\"survived\"], palette='colorblind')"
   ]
  },
  {
   "cell_type": "code",
   "execution_count": 3515,
   "metadata": {
    "_cell_guid": "d7a0dfe4-b93e-4ce7-a5b2-a7300e2dfa7f",
    "_uuid": "9c23a298ec268d5681400af6e5e04c59b3594ce4",
    "scrolled": true
   },
   "outputs": [
    {
     "data": {
      "text/html": [
       "<div>\n",
       "<style>\n",
       "    .dataframe thead tr:only-child th {\n",
       "        text-align: right;\n",
       "    }\n",
       "\n",
       "    .dataframe thead th {\n",
       "        text-align: left;\n",
       "    }\n",
       "\n",
       "    .dataframe tbody tr th {\n",
       "        vertical-align: top;\n",
       "    }\n",
       "</style>\n",
       "<table border=\"1\" class=\"dataframe\">\n",
       "  <thead>\n",
       "    <tr style=\"text-align: right;\">\n",
       "      <th></th>\n",
       "      <th>survived</th>\n",
       "    </tr>\n",
       "    <tr>\n",
       "      <th>familysize</th>\n",
       "      <th></th>\n",
       "    </tr>\n",
       "  </thead>\n",
       "  <tbody>\n",
       "    <tr>\n",
       "      <th>1</th>\n",
       "      <td>0.303538</td>\n",
       "    </tr>\n",
       "    <tr>\n",
       "      <th>2</th>\n",
       "      <td>0.552795</td>\n",
       "    </tr>\n",
       "    <tr>\n",
       "      <th>3</th>\n",
       "      <td>0.578431</td>\n",
       "    </tr>\n",
       "    <tr>\n",
       "      <th>4</th>\n",
       "      <td>0.724138</td>\n",
       "    </tr>\n",
       "    <tr>\n",
       "      <th>5</th>\n",
       "      <td>0.200000</td>\n",
       "    </tr>\n",
       "    <tr>\n",
       "      <th>6</th>\n",
       "      <td>0.136364</td>\n",
       "    </tr>\n",
       "    <tr>\n",
       "      <th>7</th>\n",
       "      <td>0.333333</td>\n",
       "    </tr>\n",
       "    <tr>\n",
       "      <th>8</th>\n",
       "      <td>0.000000</td>\n",
       "    </tr>\n",
       "    <tr>\n",
       "      <th>11</th>\n",
       "      <td>0.000000</td>\n",
       "    </tr>\n",
       "  </tbody>\n",
       "</table>\n",
       "</div>"
      ],
      "text/plain": [
       "            survived\n",
       "familysize          \n",
       "1           0.303538\n",
       "2           0.552795\n",
       "3           0.578431\n",
       "4           0.724138\n",
       "5           0.200000\n",
       "6           0.136364\n",
       "7           0.333333\n",
       "8           0.000000\n",
       "11          0.000000"
      ]
     },
     "execution_count": 3515,
     "metadata": {},
     "output_type": "execute_result"
    }
   ],
   "source": [
    "train_df[[\"familysize\", \"survived\"]].groupby(['familysize'], as_index=True).mean()"
   ]
  },
  {
   "cell_type": "markdown",
   "metadata": {},
   "source": [
    "<a id=\"alone\"></a>\n"
   ]
  },
  {
   "cell_type": "markdown",
   "metadata": {
    "_cell_guid": "0cf8613d-05ad-4026-9083-e084ed266795",
    "_uuid": "2561c2a3d02ec10ed5d32aa024d8e6d1319e32b8"
   },
   "source": [
    "Interesting -  the table above suggests that size of passenger's family might be positively correlating with probability of survival of that passenger, up to a point where the family consists of more than 4 members - after that probability of survival falls noticeably. It's probably due to the fact the the sample size for familisize > 4 is tiny.\n",
    "\n",
    "\n",
    "Additionally, as lone travellers seem to have lower chances of survival, I think it makes sense to make a dummy variable that would show whether a passenger travelled alone (Familysize=1) or not (Familisize>1):\n"
   ]
  },
  {
   "cell_type": "markdown",
   "metadata": {},
   "source": [
    "<a id=\"alone\")> </a>\n",
    "#### 3.5.2 [Derived] alone (lone travellers)"
   ]
  },
  {
   "cell_type": "code",
   "execution_count": 3516,
   "metadata": {
    "scrolled": true
   },
   "outputs": [
    {
     "data": {
      "text/html": [
       "<div>\n",
       "<style>\n",
       "    .dataframe thead tr:only-child th {\n",
       "        text-align: right;\n",
       "    }\n",
       "\n",
       "    .dataframe thead th {\n",
       "        text-align: left;\n",
       "    }\n",
       "\n",
       "    .dataframe tbody tr th {\n",
       "        vertical-align: top;\n",
       "    }\n",
       "</style>\n",
       "<table border=\"1\" class=\"dataframe\">\n",
       "  <thead>\n",
       "    <tr style=\"text-align: right;\">\n",
       "      <th></th>\n",
       "      <th>alone</th>\n",
       "      <th>familysize</th>\n",
       "    </tr>\n",
       "  </thead>\n",
       "  <tbody>\n",
       "    <tr>\n",
       "      <th>0</th>\n",
       "      <td>1</td>\n",
       "      <td>1</td>\n",
       "    </tr>\n",
       "    <tr>\n",
       "      <th>1</th>\n",
       "      <td>0</td>\n",
       "      <td>2</td>\n",
       "    </tr>\n",
       "    <tr>\n",
       "      <th>2</th>\n",
       "      <td>1</td>\n",
       "      <td>1</td>\n",
       "    </tr>\n",
       "    <tr>\n",
       "      <th>3</th>\n",
       "      <td>1</td>\n",
       "      <td>1</td>\n",
       "    </tr>\n",
       "    <tr>\n",
       "      <th>4</th>\n",
       "      <td>0</td>\n",
       "      <td>3</td>\n",
       "    </tr>\n",
       "  </tbody>\n",
       "</table>\n",
       "</div>"
      ],
      "text/plain": [
       "   alone  familysize\n",
       "0      1           1\n",
       "1      0           2\n",
       "2      1           1\n",
       "3      1           1\n",
       "4      0           3"
      ]
     },
     "execution_count": 3516,
     "metadata": {},
     "output_type": "execute_result"
    }
   ],
   "source": [
    "for df in combined_df:\n",
    "    df['alone'] = [1 if x == 1 else 0 for x in df['familysize']]\n",
    "df[['alone','familysize']].head()"
   ]
  },
  {
   "cell_type": "markdown",
   "metadata": {},
   "source": [
    "*Noice.*"
   ]
  },
  {
   "cell_type": "markdown",
   "metadata": {},
   "source": [
    "<a id=\"name\"></a>"
   ]
  },
  {
   "cell_type": "markdown",
   "metadata": {
    "_cell_guid": "7a78ac92-1a7f-476c-a00b-315dccf40e61",
    "_uuid": "34a039ef81fd8e7b61a183eac9ed63b0a4d61dc3"
   },
   "source": [
    "### **3.6. Name**\n"
   ]
  },
  {
   "cell_type": "code",
   "execution_count": 3517,
   "metadata": {},
   "outputs": [
    {
     "data": {
      "text/plain": [
       "0                              Braund, Mr. Owen Harris\n",
       "1    Cumings, Mrs. John Bradley (Florence Briggs Th...\n",
       "2                               Heikkinen, Miss. Laina\n",
       "3         Futrelle, Mrs. Jacques Heath (Lily May Peel)\n",
       "4                             Allen, Mr. William Henry\n",
       "Name: name, dtype: object"
      ]
     },
     "execution_count": 3517,
     "metadata": {},
     "output_type": "execute_result"
    }
   ],
   "source": [
    "train_df[\"name\"].head()"
   ]
  },
  {
   "cell_type": "markdown",
   "metadata": {
    "_cell_guid": "d42a1ce6-bbe3-46bd-99b3-9a8484c531cb",
    "_uuid": "3798751f6cf9bf4b510c627a10dd36fc36199f39"
   },
   "source": [
    "Although the name itself may not be of particular interest, passengers salutation (Mr, Dr, etc) may be interesting to take into account. \n",
    "Let's create a variable that would include all salutations which suggest high status."
   ]
  },
  {
   "cell_type": "markdown",
   "metadata": {},
   "source": [
    "<a id=\"high_status\"></a>\n",
    "#### 3.6.1 [Derived] high_status"
   ]
  },
  {
   "cell_type": "code",
   "execution_count": 3518,
   "metadata": {
    "_cell_guid": "6fdfa543-e7b7-4076-b987-4a9ee4429a10",
    "_uuid": "40dea8c0d6c4d8b6daa1a162eea909588a8fed66"
   },
   "outputs": [
    {
     "data": {
      "text/html": [
       "<div>\n",
       "<style>\n",
       "    .dataframe thead tr:only-child th {\n",
       "        text-align: right;\n",
       "    }\n",
       "\n",
       "    .dataframe thead th {\n",
       "        text-align: left;\n",
       "    }\n",
       "\n",
       "    .dataframe tbody tr th {\n",
       "        vertical-align: top;\n",
       "    }\n",
       "</style>\n",
       "<table border=\"1\" class=\"dataframe\">\n",
       "  <thead>\n",
       "    <tr style=\"text-align: right;\">\n",
       "      <th>sex</th>\n",
       "      <th>female</th>\n",
       "      <th>male</th>\n",
       "    </tr>\n",
       "    <tr>\n",
       "      <th>title</th>\n",
       "      <th></th>\n",
       "      <th></th>\n",
       "    </tr>\n",
       "  </thead>\n",
       "  <tbody>\n",
       "    <tr>\n",
       "      <th>Capt</th>\n",
       "      <td>0</td>\n",
       "      <td>1</td>\n",
       "    </tr>\n",
       "    <tr>\n",
       "      <th>Col</th>\n",
       "      <td>0</td>\n",
       "      <td>2</td>\n",
       "    </tr>\n",
       "    <tr>\n",
       "      <th>Countess</th>\n",
       "      <td>1</td>\n",
       "      <td>0</td>\n",
       "    </tr>\n",
       "    <tr>\n",
       "      <th>Don</th>\n",
       "      <td>0</td>\n",
       "      <td>1</td>\n",
       "    </tr>\n",
       "    <tr>\n",
       "      <th>Dr</th>\n",
       "      <td>1</td>\n",
       "      <td>6</td>\n",
       "    </tr>\n",
       "    <tr>\n",
       "      <th>Jonkheer</th>\n",
       "      <td>0</td>\n",
       "      <td>1</td>\n",
       "    </tr>\n",
       "    <tr>\n",
       "      <th>Lady</th>\n",
       "      <td>1</td>\n",
       "      <td>0</td>\n",
       "    </tr>\n",
       "    <tr>\n",
       "      <th>Major</th>\n",
       "      <td>0</td>\n",
       "      <td>2</td>\n",
       "    </tr>\n",
       "    <tr>\n",
       "      <th>Master</th>\n",
       "      <td>0</td>\n",
       "      <td>40</td>\n",
       "    </tr>\n",
       "    <tr>\n",
       "      <th>Miss</th>\n",
       "      <td>182</td>\n",
       "      <td>0</td>\n",
       "    </tr>\n",
       "    <tr>\n",
       "      <th>Mlle</th>\n",
       "      <td>2</td>\n",
       "      <td>0</td>\n",
       "    </tr>\n",
       "    <tr>\n",
       "      <th>Mme</th>\n",
       "      <td>1</td>\n",
       "      <td>0</td>\n",
       "    </tr>\n",
       "    <tr>\n",
       "      <th>Mr</th>\n",
       "      <td>0</td>\n",
       "      <td>517</td>\n",
       "    </tr>\n",
       "    <tr>\n",
       "      <th>Mrs</th>\n",
       "      <td>125</td>\n",
       "      <td>0</td>\n",
       "    </tr>\n",
       "    <tr>\n",
       "      <th>Ms</th>\n",
       "      <td>1</td>\n",
       "      <td>0</td>\n",
       "    </tr>\n",
       "    <tr>\n",
       "      <th>Rev</th>\n",
       "      <td>0</td>\n",
       "      <td>6</td>\n",
       "    </tr>\n",
       "    <tr>\n",
       "      <th>Sir</th>\n",
       "      <td>0</td>\n",
       "      <td>1</td>\n",
       "    </tr>\n",
       "  </tbody>\n",
       "</table>\n",
       "</div>"
      ],
      "text/plain": [
       "sex       female  male\n",
       "title                 \n",
       "Capt           0     1\n",
       "Col            0     2\n",
       "Countess       1     0\n",
       "Don            0     1\n",
       "Dr             1     6\n",
       "Jonkheer       0     1\n",
       "Lady           1     0\n",
       "Major          0     2\n",
       "Master         0    40\n",
       "Miss         182     0\n",
       "Mlle           2     0\n",
       "Mme            1     0\n",
       "Mr             0   517\n",
       "Mrs          125     0\n",
       "Ms             1     0\n",
       "Rev            0     6\n",
       "Sir            0     1"
      ]
     },
     "execution_count": 3518,
     "metadata": {},
     "output_type": "execute_result"
    }
   ],
   "source": [
    "for df in combined_df:\n",
    "    df['title'] = df.name.str.extract(' ([A-Za-z]+)\\.', expand=False)\n",
    "    \n",
    "pd.crosstab(train_df['title'], train_df['sex'])"
   ]
  },
  {
   "cell_type": "code",
   "execution_count": 3519,
   "metadata": {
    "_cell_guid": "0a1ade87-c8b4-41b1-88e7-c332f7d9a91f",
    "_uuid": "694d71646bc4154bba27b31af00918641993a648",
    "collapsed": true
   },
   "outputs": [],
   "source": [
    "high_status_salutations = ['Lady', 'Countess','Capt', 'Col','Don', 'Dr', 'Major', 'Rev', 'Sir', 'Jonkheer', 'Dona']"
   ]
  },
  {
   "cell_type": "markdown",
   "metadata": {},
   "source": [
    "Sidenote - today I learnt that \"Jonkheer\" is a Dutch salutation for noblemen."
   ]
  },
  {
   "cell_type": "markdown",
   "metadata": {},
   "source": [
    "I'll create a dummy variable called high_status that will indicate whether passenger's salutation indicates high social status."
   ]
  },
  {
   "cell_type": "code",
   "execution_count": 3520,
   "metadata": {
    "_cell_guid": "0ebfcbd0-a236-4b0f-82f8-2f5a1f91a0e2",
    "_uuid": "831c68f38e44ddf1f5d04cba3f9f8644f1f78186",
    "collapsed": true
   },
   "outputs": [],
   "source": [
    "for df in combined_df:\n",
    "    titles = np.array(df.title)\n",
    "    high_status = np.zeros_like(titles)\n",
    "    \n",
    "    for i in range(0, len(high_status)):\n",
    "        if titles[i] in high_status_salutations:\n",
    "            high_status[i] = 1 \n",
    "        else:\n",
    "            high_status[i] = 0\n",
    "            \n",
    "    df[\"high_status\"] = high_status\n"
   ]
  },
  {
   "cell_type": "code",
   "execution_count": 3521,
   "metadata": {
    "_cell_guid": "bbe0e418-4bb6-420c-97d1-cb02d22b0724",
    "_uuid": "63bec65c4577352b9b703633fb3c13302ffc3cbf"
   },
   "outputs": [
    {
     "data": {
      "text/plain": [
       "0    868\n",
       "1     23\n",
       "Name: high_status, dtype: int64"
      ]
     },
     "execution_count": 3521,
     "metadata": {},
     "output_type": "execute_result"
    }
   ],
   "source": [
    "train_df[\"high_status\"].value_counts()"
   ]
  },
  {
   "cell_type": "code",
   "execution_count": 3522,
   "metadata": {
    "_cell_guid": "eab24415-56c8-4a02-870d-11dc3cb0b43a",
    "_uuid": "c57427fd94f7366d1accbbf52009691eb6ca2c2e",
    "scrolled": false
   },
   "outputs": [
    {
     "data": {
      "text/html": [
       "<div>\n",
       "<style>\n",
       "    .dataframe thead tr:only-child th {\n",
       "        text-align: right;\n",
       "    }\n",
       "\n",
       "    .dataframe thead th {\n",
       "        text-align: left;\n",
       "    }\n",
       "\n",
       "    .dataframe tbody tr th {\n",
       "        vertical-align: top;\n",
       "    }\n",
       "</style>\n",
       "<table border=\"1\" class=\"dataframe\">\n",
       "  <thead>\n",
       "    <tr style=\"text-align: right;\">\n",
       "      <th></th>\n",
       "      <th>survived</th>\n",
       "    </tr>\n",
       "    <tr>\n",
       "      <th>high_status</th>\n",
       "      <th></th>\n",
       "    </tr>\n",
       "  </thead>\n",
       "  <tbody>\n",
       "    <tr>\n",
       "      <th>0</th>\n",
       "      <td>0.384793</td>\n",
       "    </tr>\n",
       "    <tr>\n",
       "      <th>1</th>\n",
       "      <td>0.347826</td>\n",
       "    </tr>\n",
       "  </tbody>\n",
       "</table>\n",
       "</div>"
      ],
      "text/plain": [
       "             survived\n",
       "high_status          \n",
       "0            0.384793\n",
       "1            0.347826"
      ]
     },
     "execution_count": 3522,
     "metadata": {},
     "output_type": "execute_result"
    }
   ],
   "source": [
    "train_df[[\"high_status\", \"survived\"]].groupby([\"high_status\"], as_index=True).mean()"
   ]
  },
  {
   "cell_type": "markdown",
   "metadata": {
    "_cell_guid": "dd70b447-bdde-4308-a7ae-d27ac1993014",
    "_uuid": "c027e71e1925c69de8ed94d600cf0b34a4dd5da1",
    "collapsed": true
   },
   "source": [
    "To be honest, I was expecting high status salutations to be have higher survival rates. Hmmm!"
   ]
  },
  {
   "cell_type": "markdown",
   "metadata": {},
   "source": [
    "<a id=\"fare\"></a>"
   ]
  },
  {
   "cell_type": "markdown",
   "metadata": {
    "_cell_guid": "07c74176-be00-4865-b3c4-623a8faf9970",
    "_uuid": "2a067d5fbb104536be49e58f20ba270ce67adad7"
   },
   "source": [
    "### **    3.7. Fare **\n",
    "Let's see how ticket fares correlated with probability of survival\n"
   ]
  },
  {
   "cell_type": "code",
   "execution_count": 3523,
   "metadata": {
    "_cell_guid": "c1825289-8f01-4fb8-b31d-ab1fe36c1e3f",
    "_uuid": "2ecbcbe062bb47bdb57ef5ceda6cdcd03dc2b3e7",
    "scrolled": true
   },
   "outputs": [
    {
     "data": {
      "text/plain": [
       "count    891.000000\n",
       "mean      32.204208\n",
       "std       49.693429\n",
       "min        0.000000\n",
       "25%        7.910400\n",
       "50%       14.454200\n",
       "75%       31.000000\n",
       "max      512.329200\n",
       "Name: fare, dtype: float64"
      ]
     },
     "execution_count": 3523,
     "metadata": {},
     "output_type": "execute_result"
    }
   ],
   "source": [
    "train_df[\"fare\"].describe()"
   ]
  },
  {
   "cell_type": "markdown",
   "metadata": {
    "_cell_guid": "7bf8e527-ed62-405a-8a08-08358a35d7a3",
    "_uuid": "0d564384811892319dc1695482916834f5eb123a"
   },
   "source": [
    "The spread in the fares is massive, let's see its distribution"
   ]
  },
  {
   "cell_type": "code",
   "execution_count": 3524,
   "metadata": {
    "_uuid": "c66f605caa3d1f84792a5440e77dffff9c5a71e5"
   },
   "outputs": [
    {
     "data": {
      "text/plain": [
       "<matplotlib.axes._subplots.AxesSubplot at 0x18e65e898>"
      ]
     },
     "execution_count": 3524,
     "metadata": {},
     "output_type": "execute_result"
    },
    {
     "data": {
      "image/png": "[encoded data removed]",
      "text/plain": [
       "<matplotlib.figure.Figure at 0x18d2c3be0>"
      ]
     },
     "metadata": {},
     "output_type": "display_data"
    }
   ],
   "source": [
    "sns.distplot(train_df[\"fare\"])"
   ]
  },
  {
   "cell_type": "code",
   "execution_count": 3525,
   "metadata": {
    "_cell_guid": "8fd609a6-45f5-427a-9361-0c8449e5f996",
    "_uuid": "01c0f151f534ec7d0c3e4affab7e6628db54358a",
    "scrolled": false
   },
   "outputs": [
    {
     "data": {
      "text/plain": [
       "<seaborn.axisgrid.FacetGrid at 0x18eb08160>"
      ]
     },
     "execution_count": 3525,
     "metadata": {},
     "output_type": "execute_result"
    },
    {
     "data": {
      "image/png": "[encoded data removed]",
      "text/plain": [
       "<matplotlib.figure.Figure at 0x18e99a7b8>"
      ]
     },
     "metadata": {},
     "output_type": "display_data"
    }
   ],
   "source": [
    "facet = sns.FacetGrid(train_df, hue=\"survived\",aspect=2,size=4)\n",
    "facet.map(sns.kdeplot,'fare',shade= True)\n",
    "facet.set(xlim=(0, train_df['fare'].max()))\n",
    "facet.add_legend()"
   ]
  },
  {
   "cell_type": "markdown",
   "metadata": {
    "_uuid": "a532b96d05f72cf7655d110e8fd863fefd16d480"
   },
   "source": [
    "I don't think the fare feature is very informative in context of survival.\n",
    "\n",
    "\n",
    "Out of curiosity- let's see the distribution of fares across classes (i.e. Pclass- 1st, 2nd, 3rd)"
   ]
  },
  {
   "cell_type": "code",
   "execution_count": 3526,
   "metadata": {
    "_uuid": "72c902b6d69ace685c63bf7000dc5f828f689867"
   },
   "outputs": [
    {
     "data": {
      "text/plain": [
       "<seaborn.axisgrid.FacetGrid at 0x18eb23d30>"
      ]
     },
     "execution_count": 3526,
     "metadata": {},
     "output_type": "execute_result"
    },
    {
     "data": {
      "image/png": "[encoded data removed]",
      "text/plain": [
       "<matplotlib.figure.Figure at 0x18eb98a20>"
      ]
     },
     "metadata": {},
     "output_type": "display_data"
    }
   ],
   "source": [
    "facet = sns.FacetGrid(train_df, hue=\"pclass\",aspect=2,size=4)\n",
    "facet.map(sns.kdeplot,'fare',shade= True)\n",
    "facet.set(ylim=(0, 0.1))\n",
    "facet.add_legend()"
   ]
  },
  {
   "cell_type": "code",
   "execution_count": 3527,
   "metadata": {
    "_uuid": "b4de0e5a94ecb25eb5353e9e307d60bd2fa7ae13"
   },
   "outputs": [
    {
     "data": {
      "text/plain": [
       "<matplotlib.axes._subplots.AxesSubplot at 0x18ebd0780>"
      ]
     },
     "execution_count": 3527,
     "metadata": {},
     "output_type": "execute_result"
    },
    {
     "data": {
      "image/png": "[encoded data removed]",
      "text/plain": [
       "<matplotlib.figure.Figure at 0x18eaedf98>"
      ]
     },
     "metadata": {},
     "output_type": "display_data"
    }
   ],
   "source": [
    "sns.stripplot(train_df[\"pclass\"], train_df[\"fare\"])\n"
   ]
  },
  {
   "cell_type": "markdown",
   "metadata": {},
   "source": [
    "<a id=\"cabin\"></a>"
   ]
  },
  {
   "cell_type": "markdown",
   "metadata": {
    "_uuid": "5b53f7a89438d1e6356f61dfa01c1ce8dfd9a5d5"
   },
   "source": [
    "###  **  3.8. Cabin**\n",
    "  \n"
   ]
  },
  {
   "cell_type": "markdown",
   "metadata": {
    "_uuid": "856f927542b7551556841245ddbb90bc38c132bc"
   },
   "source": [
    "I'm assuming that the first letter of Cabin name is indicative of the level the cabin is at, which maybe correlates with survival (i.e. the closer passengers were to the main deck, the quicker they could be assigned to lifeboats)\n"
   ]
  },
  {
   "cell_type": "markdown",
   "metadata": {},
   "source": [
    "<a id=\"first_letter_cabin\"></a>\n"
   ]
  },
  {
   "cell_type": "markdown",
   "metadata": {},
   "source": [
    "#### 3.8.1 [derived] first_letter_cabin\n",
    "The first letter of the cabin name"
   ]
  },
  {
   "cell_type": "code",
   "execution_count": 3528,
   "metadata": {
    "_uuid": "4b11dc5b62d8db4d00324236c039b898504fcb35",
    "collapsed": true,
    "scrolled": false
   },
   "outputs": [],
   "source": [
    "for df in combined_df:\n",
    "    df['first_letter_cabin'] = df['cabin'].str[0]\n"
   ]
  },
  {
   "cell_type": "code",
   "execution_count": 3529,
   "metadata": {
    "_uuid": "7b218ffb84413cdd1362951177a8cc0bac3b3537"
   },
   "outputs": [
    {
     "data": {
      "text/plain": [
       "C    59\n",
       "B    47\n",
       "D    33\n",
       "E    32\n",
       "A    15\n",
       "F    13\n",
       "G     4\n",
       "T     1\n",
       "Name: first_letter_cabin, dtype: int64"
      ]
     },
     "execution_count": 3529,
     "metadata": {},
     "output_type": "execute_result"
    }
   ],
   "source": [
    "train_df[\"first_letter_cabin\"].value_counts()"
   ]
  },
  {
   "cell_type": "code",
   "execution_count": 3530,
   "metadata": {
    "_uuid": "4268b739776eaeb7a25fe0ab995abfaf926f702a",
    "scrolled": false
   },
   "outputs": [
    {
     "data": {
      "text/plain": [
       "<matplotlib.axes._subplots.AxesSubplot at 0x18f1930b8>"
      ]
     },
     "execution_count": 3530,
     "metadata": {},
     "output_type": "execute_result"
    },
    {
     "data": {
      "image/png": "[encoded data removed]",
      "text/plain": [
       "<matplotlib.figure.Figure at 0x18ead5eb8>"
      ]
     },
     "metadata": {},
     "output_type": "display_data"
    }
   ],
   "source": [
    "sns.countplot(train_df[\"first_letter_cabin\"],hue=train_df[\"survived\"],order=\"ABCDEFGT\", palette='colorblind')"
   ]
  },
  {
   "cell_type": "code",
   "execution_count": 3531,
   "metadata": {
    "_uuid": "157f22c899f9fef74832ea88c6ce0c0450f02446",
    "scrolled": true
   },
   "outputs": [
    {
     "data": {
      "text/html": [
       "<div>\n",
       "<style>\n",
       "    .dataframe thead tr:only-child th {\n",
       "        text-align: right;\n",
       "    }\n",
       "\n",
       "    .dataframe thead th {\n",
       "        text-align: left;\n",
       "    }\n",
       "\n",
       "    .dataframe tbody tr th {\n",
       "        vertical-align: top;\n",
       "    }\n",
       "</style>\n",
       "<table border=\"1\" class=\"dataframe\">\n",
       "  <thead>\n",
       "    <tr style=\"text-align: right;\">\n",
       "      <th></th>\n",
       "      <th>survived</th>\n",
       "    </tr>\n",
       "    <tr>\n",
       "      <th>first_letter_cabin</th>\n",
       "      <th></th>\n",
       "    </tr>\n",
       "  </thead>\n",
       "  <tbody>\n",
       "    <tr>\n",
       "      <th>D</th>\n",
       "      <td>0.757576</td>\n",
       "    </tr>\n",
       "    <tr>\n",
       "      <th>E</th>\n",
       "      <td>0.750000</td>\n",
       "    </tr>\n",
       "    <tr>\n",
       "      <th>B</th>\n",
       "      <td>0.744681</td>\n",
       "    </tr>\n",
       "    <tr>\n",
       "      <th>F</th>\n",
       "      <td>0.615385</td>\n",
       "    </tr>\n",
       "    <tr>\n",
       "      <th>C</th>\n",
       "      <td>0.593220</td>\n",
       "    </tr>\n",
       "    <tr>\n",
       "      <th>G</th>\n",
       "      <td>0.500000</td>\n",
       "    </tr>\n",
       "    <tr>\n",
       "      <th>A</th>\n",
       "      <td>0.466667</td>\n",
       "    </tr>\n",
       "    <tr>\n",
       "      <th>T</th>\n",
       "      <td>0.000000</td>\n",
       "    </tr>\n",
       "  </tbody>\n",
       "</table>\n",
       "</div>"
      ],
      "text/plain": [
       "                    survived\n",
       "first_letter_cabin          \n",
       "D                   0.757576\n",
       "E                   0.750000\n",
       "B                   0.744681\n",
       "F                   0.615385\n",
       "C                   0.593220\n",
       "G                   0.500000\n",
       "A                   0.466667\n",
       "T                   0.000000"
      ]
     },
     "execution_count": 3531,
     "metadata": {},
     "output_type": "execute_result"
    }
   ],
   "source": [
    "\n",
    "train_df[[\"first_letter_cabin\", \"survived\"]].groupby(['first_letter_cabin'], as_index=True).mean().sort_values(by='survived', ascending=False)"
   ]
  },
  {
   "cell_type": "markdown",
   "metadata": {
    "_uuid": "44c27369ad859c67c4b6851f8582a07e4d7d54c9"
   },
   "source": [
    "Some Cabins seem to be associated with higher probability of survival. This may be due to the location of cabin floors, as well as other factors. I think it's worth including this variable."
   ]
  },
  {
   "cell_type": "code",
   "execution_count": 3532,
   "metadata": {
    "_uuid": "612eac727f7cb9b0716c6d87700005b0f35090dd",
    "scrolled": false
   },
   "outputs": [
    {
     "data": {
      "text/html": [
       "<div>\n",
       "<style>\n",
       "    .dataframe thead tr:only-child th {\n",
       "        text-align: right;\n",
       "    }\n",
       "\n",
       "    .dataframe thead th {\n",
       "        text-align: left;\n",
       "    }\n",
       "\n",
       "    .dataframe tbody tr th {\n",
       "        vertical-align: top;\n",
       "    }\n",
       "</style>\n",
       "<table border=\"1\" class=\"dataframe\">\n",
       "  <thead>\n",
       "    <tr style=\"text-align: right;\">\n",
       "      <th>first_letter_cabin</th>\n",
       "      <th>A</th>\n",
       "      <th>B</th>\n",
       "      <th>C</th>\n",
       "      <th>D</th>\n",
       "      <th>E</th>\n",
       "      <th>F</th>\n",
       "      <th>G</th>\n",
       "      <th>T</th>\n",
       "    </tr>\n",
       "    <tr>\n",
       "      <th>pclass</th>\n",
       "      <th></th>\n",
       "      <th></th>\n",
       "      <th></th>\n",
       "      <th></th>\n",
       "      <th></th>\n",
       "      <th></th>\n",
       "      <th></th>\n",
       "      <th></th>\n",
       "    </tr>\n",
       "  </thead>\n",
       "  <tbody>\n",
       "    <tr>\n",
       "      <th>1</th>\n",
       "      <td>15</td>\n",
       "      <td>47</td>\n",
       "      <td>59</td>\n",
       "      <td>29</td>\n",
       "      <td>25</td>\n",
       "      <td>0</td>\n",
       "      <td>0</td>\n",
       "      <td>1</td>\n",
       "    </tr>\n",
       "    <tr>\n",
       "      <th>2</th>\n",
       "      <td>0</td>\n",
       "      <td>0</td>\n",
       "      <td>0</td>\n",
       "      <td>4</td>\n",
       "      <td>4</td>\n",
       "      <td>8</td>\n",
       "      <td>0</td>\n",
       "      <td>0</td>\n",
       "    </tr>\n",
       "    <tr>\n",
       "      <th>3</th>\n",
       "      <td>0</td>\n",
       "      <td>0</td>\n",
       "      <td>0</td>\n",
       "      <td>0</td>\n",
       "      <td>3</td>\n",
       "      <td>5</td>\n",
       "      <td>4</td>\n",
       "      <td>0</td>\n",
       "    </tr>\n",
       "  </tbody>\n",
       "</table>\n",
       "</div>"
      ],
      "text/plain": [
       "first_letter_cabin   A   B   C   D   E  F  G  T\n",
       "pclass                                         \n",
       "1                   15  47  59  29  25  0  0  1\n",
       "2                    0   0   0   4   4  8  0  0\n",
       "3                    0   0   0   0   3  5  4  0"
      ]
     },
     "execution_count": 3532,
     "metadata": {},
     "output_type": "execute_result"
    }
   ],
   "source": [
    "pd.crosstab(train_df[\"pclass\"], train_df[\"first_letter_cabin\"])"
   ]
  },
  {
   "cell_type": "markdown",
   "metadata": {
    "_uuid": "d2c60184ed220743318a0ce4d96623025dfdef7a",
    "collapsed": true
   },
   "source": [
    "It looks that info on cabins was very poorly recorded for classes 2 and 3."
   ]
  },
  {
   "cell_type": "markdown",
   "metadata": {},
   "source": [
    "<a id=\"embarked\"></a>"
   ]
  },
  {
   "cell_type": "markdown",
   "metadata": {
    "_uuid": "6a785070d82cd817c8744fe699126e376dcaf316"
   },
   "source": [
    "### **3.9. Embarked**"
   ]
  },
  {
   "cell_type": "markdown",
   "metadata": {},
   "source": [
    "Port of Embarkation\n",
    "\n",
    "C = Cherbourg, Q = Queenstown, S = Southampton"
   ]
  },
  {
   "cell_type": "markdown",
   "metadata": {},
   "source": [
    "I was curious about these ports, so I found the map below"
   ]
  },
  {
   "cell_type": "markdown",
   "metadata": {},
   "source": [
    "<img src=\"./input/Titanic-Route.jpg\">\n"
   ]
  },
  {
   "cell_type": "code",
   "execution_count": 3533,
   "metadata": {},
   "outputs": [
    {
     "data": {
      "text/plain": [
       "S    644\n",
       "C    168\n",
       "Q     77\n",
       "Name: embarked, dtype: int64"
      ]
     },
     "execution_count": 3533,
     "metadata": {},
     "output_type": "execute_result"
    }
   ],
   "source": [
    "train_df[\"embarked\"].value_counts()"
   ]
  },
  {
   "cell_type": "markdown",
   "metadata": {},
   "source": [
    "Notice there were many missing values for this variable"
   ]
  },
  {
   "cell_type": "code",
   "execution_count": 3534,
   "metadata": {
    "_uuid": "bda26d7d3ab327a212135f554db806c22b2dace8",
    "scrolled": false
   },
   "outputs": [
    {
     "data": {
      "text/plain": [
       "<matplotlib.axes._subplots.AxesSubplot at 0x18f35e240>"
      ]
     },
     "execution_count": 3534,
     "metadata": {},
     "output_type": "execute_result"
    },
    {
     "data": {
      "image/png": "[encoded data removed]",
      "text/plain": [
       "<matplotlib.figure.Figure at 0x18f209e80>"
      ]
     },
     "metadata": {},
     "output_type": "display_data"
    }
   ],
   "source": [
    "sns.countplot(train_df[\"embarked\"], hue=train_df[\"survived\"])"
   ]
  },
  {
   "cell_type": "code",
   "execution_count": 3535,
   "metadata": {
    "_uuid": "21680f0db7a9f163d17b62007a031230f36f4b23"
   },
   "outputs": [
    {
     "data": {
      "text/html": [
       "<div>\n",
       "<style>\n",
       "    .dataframe thead tr:only-child th {\n",
       "        text-align: right;\n",
       "    }\n",
       "\n",
       "    .dataframe thead th {\n",
       "        text-align: left;\n",
       "    }\n",
       "\n",
       "    .dataframe tbody tr th {\n",
       "        vertical-align: top;\n",
       "    }\n",
       "</style>\n",
       "<table border=\"1\" class=\"dataframe\">\n",
       "  <thead>\n",
       "    <tr style=\"text-align: right;\">\n",
       "      <th></th>\n",
       "      <th>survived</th>\n",
       "    </tr>\n",
       "    <tr>\n",
       "      <th>embarked</th>\n",
       "      <th></th>\n",
       "    </tr>\n",
       "  </thead>\n",
       "  <tbody>\n",
       "    <tr>\n",
       "      <th>C</th>\n",
       "      <td>0.553571</td>\n",
       "    </tr>\n",
       "    <tr>\n",
       "      <th>Q</th>\n",
       "      <td>0.389610</td>\n",
       "    </tr>\n",
       "    <tr>\n",
       "      <th>S</th>\n",
       "      <td>0.336957</td>\n",
       "    </tr>\n",
       "  </tbody>\n",
       "</table>\n",
       "</div>"
      ],
      "text/plain": [
       "          survived\n",
       "embarked          \n",
       "C         0.553571\n",
       "Q         0.389610\n",
       "S         0.336957"
      ]
     },
     "execution_count": 3535,
     "metadata": {},
     "output_type": "execute_result"
    }
   ],
   "source": [
    "train_df[[\"embarked\", \"survived\"]].groupby(['embarked'], as_index=True).mean().sort_values(by='survived', ascending=False)"
   ]
  },
  {
   "cell_type": "markdown",
   "metadata": {
    "_uuid": "4ca19c08bd626b49639d542d8652806e842f6c7f"
   },
   "source": [
    "It's not clear if and how location of getting on board could be indicative of probability of survival.\n"
   ]
  },
  {
   "cell_type": "markdown",
   "metadata": {},
   "source": [
    "<a id=\"missing\"></a>"
   ]
  },
  {
   "cell_type": "markdown",
   "metadata": {
    "_uuid": "3b4be02782925d8c47065d6c6aa97730fe52773e",
    "collapsed": true
   },
   "source": [
    "### 4. Dealing with missing data\n",
    " <a id=\"drop\"></a>\n"
   ]
  },
  {
   "cell_type": "markdown",
   "metadata": {},
   "source": [
    "#### **4.1.** Dropping\n",
    "Let's drop the variables I decided not use in the analysis."
   ]
  },
  {
   "cell_type": "code",
   "execution_count": 3536,
   "metadata": {
    "collapsed": true
   },
   "outputs": [],
   "source": [
    "to_drop = [\"ticket\",\"sibsp\",\"parch\",\"cabin\",\"title\",\"name\", \"fare\"]\n",
    "\n",
    "for df in combined_df:\n",
    "    df.drop(to_drop, axis=1, inplace=True)\n",
    "    \n"
   ]
  },
  {
   "cell_type": "markdown",
   "metadata": {},
   "source": [
    " <a id=\"imput\"></a>"
   ]
  },
  {
   "cell_type": "markdown",
   "metadata": {},
   "source": [
    "#### **4.2.** Imputing\n",
    "Let's impute missing values for the rest of the variables: age, embarked, and first_letter_cabin (derived from cabin)"
   ]
  },
  {
   "cell_type": "markdown",
   "metadata": {},
   "source": [
    "Missing age values have been imputed with the median age of our training cohort. \n",
    "For 'embarked' and 'first_letter_cabin' we'll need to use mode instead of median, as these categorical variables coded as strings."
   ]
  },
  {
   "cell_type": "code",
   "execution_count": 3537,
   "metadata": {},
   "outputs": [
    {
     "data": {
      "text/plain": [
       "'C'"
      ]
     },
     "execution_count": 3537,
     "metadata": {},
     "output_type": "execute_result"
    }
   ],
   "source": [
    "train_df[\"first_letter_cabin\"].mode()[0]\n",
    "\n",
    "#note that df[\"first_letter_cabin\"].mode() without '[0]' at the end would return an object '0   C', and adding [0] accesses it's first element - 'C'"
   ]
  },
  {
   "cell_type": "code",
   "execution_count": 3538,
   "metadata": {},
   "outputs": [
    {
     "data": {
      "text/plain": [
       "'S'"
      ]
     },
     "execution_count": 3538,
     "metadata": {},
     "output_type": "execute_result"
    }
   ],
   "source": [
    "train_df[\"embarked\"].dropna().mode()[0]"
   ]
  },
  {
   "cell_type": "code",
   "execution_count": 3539,
   "metadata": {
    "collapsed": true
   },
   "outputs": [],
   "source": [
    "for df in combined_df:\n",
    "\n",
    "    df[\"embarked\"].fillna((df[\"embarked\"].dropna().mode()[0]), inplace=True)\n",
    "    df[\"first_letter_cabin\"].fillna((df[\"first_letter_cabin\"].dropna().mode()[0]), inplace=True)\n",
    "     "
   ]
  },
  {
   "cell_type": "markdown",
   "metadata": {},
   "source": [
    " <a id=\"onehot\"></a>"
   ]
  },
  {
   "cell_type": "markdown",
   "metadata": {},
   "source": [
    "###  **4.2.** One-hot encoding"
   ]
  },
  {
   "cell_type": "markdown",
   "metadata": {},
   "source": [
    "For the sake of making our computations less computationally expensive, it's good practice to one-hot encode the categorical variables. Let's one-hot encode pclass, sex, embarked, first_letter_cabin, and ageband."
   ]
  },
  {
   "cell_type": "code",
   "execution_count": 3540,
   "metadata": {
    "collapsed": true
   },
   "outputs": [],
   "source": [
    "to_onehot_encode = [\"pclass\", \"sex\", \"embarked\", \"first_letter_cabin\", \"ageband\"]\n",
    "\n",
    "for var in to_onehot_encode:\n",
    "    dummies =  pd.get_dummies(train_df[var], prefix=var, prefix_sep='_', dummy_na=False, columns=None, sparse=False, drop_first=False)\n",
    "    train_df = pd.concat([train_df, dummies], axis=1)\n",
    "    train_df.drop(var, inplace = True, axis=1)"
   ]
  },
  {
   "cell_type": "code",
   "execution_count": 3541,
   "metadata": {
    "collapsed": true
   },
   "outputs": [],
   "source": [
    "for var in to_onehot_encode:\n",
    "    dummies =  pd.get_dummies(test_df[var], prefix=var, prefix_sep='_', dummy_na=False, columns=None, sparse=False, drop_first=False)\n",
    "    test_df = pd.concat([test_df, dummies], axis=1)\n",
    "    test_df.drop(var, inplace = True, axis=1)"
   ]
  },
  {
   "cell_type": "code",
   "execution_count": 3542,
   "metadata": {},
   "outputs": [
    {
     "data": {
      "text/html": [
       "<div>\n",
       "<style>\n",
       "    .dataframe thead tr:only-child th {\n",
       "        text-align: right;\n",
       "    }\n",
       "\n",
       "    .dataframe thead th {\n",
       "        text-align: left;\n",
       "    }\n",
       "\n",
       "    .dataframe tbody tr th {\n",
       "        vertical-align: top;\n",
       "    }\n",
       "</style>\n",
       "<table border=\"1\" class=\"dataframe\">\n",
       "  <thead>\n",
       "    <tr style=\"text-align: right;\">\n",
       "      <th></th>\n",
       "      <th>passengerid</th>\n",
       "      <th>survived</th>\n",
       "      <th>familysize</th>\n",
       "      <th>alone</th>\n",
       "      <th>high_status</th>\n",
       "      <th>pclass_1</th>\n",
       "      <th>pclass_2</th>\n",
       "      <th>pclass_3</th>\n",
       "      <th>sex_female</th>\n",
       "      <th>sex_male</th>\n",
       "      <th>...</th>\n",
       "      <th>first_letter_cabin_B</th>\n",
       "      <th>first_letter_cabin_C</th>\n",
       "      <th>first_letter_cabin_D</th>\n",
       "      <th>first_letter_cabin_E</th>\n",
       "      <th>first_letter_cabin_F</th>\n",
       "      <th>first_letter_cabin_G</th>\n",
       "      <th>first_letter_cabin_T</th>\n",
       "      <th>ageband_0</th>\n",
       "      <th>ageband_1</th>\n",
       "      <th>ageband_2</th>\n",
       "    </tr>\n",
       "  </thead>\n",
       "  <tbody>\n",
       "    <tr>\n",
       "      <th>0</th>\n",
       "      <td>1</td>\n",
       "      <td>0</td>\n",
       "      <td>2</td>\n",
       "      <td>0</td>\n",
       "      <td>0</td>\n",
       "      <td>0</td>\n",
       "      <td>0</td>\n",
       "      <td>1</td>\n",
       "      <td>0</td>\n",
       "      <td>1</td>\n",
       "      <td>...</td>\n",
       "      <td>0</td>\n",
       "      <td>1</td>\n",
       "      <td>0</td>\n",
       "      <td>0</td>\n",
       "      <td>0</td>\n",
       "      <td>0</td>\n",
       "      <td>0</td>\n",
       "      <td>0</td>\n",
       "      <td>1</td>\n",
       "      <td>0</td>\n",
       "    </tr>\n",
       "    <tr>\n",
       "      <th>1</th>\n",
       "      <td>2</td>\n",
       "      <td>1</td>\n",
       "      <td>2</td>\n",
       "      <td>0</td>\n",
       "      <td>0</td>\n",
       "      <td>1</td>\n",
       "      <td>0</td>\n",
       "      <td>0</td>\n",
       "      <td>1</td>\n",
       "      <td>0</td>\n",
       "      <td>...</td>\n",
       "      <td>0</td>\n",
       "      <td>1</td>\n",
       "      <td>0</td>\n",
       "      <td>0</td>\n",
       "      <td>0</td>\n",
       "      <td>0</td>\n",
       "      <td>0</td>\n",
       "      <td>0</td>\n",
       "      <td>1</td>\n",
       "      <td>0</td>\n",
       "    </tr>\n",
       "    <tr>\n",
       "      <th>2</th>\n",
       "      <td>3</td>\n",
       "      <td>1</td>\n",
       "      <td>1</td>\n",
       "      <td>1</td>\n",
       "      <td>0</td>\n",
       "      <td>0</td>\n",
       "      <td>0</td>\n",
       "      <td>1</td>\n",
       "      <td>1</td>\n",
       "      <td>0</td>\n",
       "      <td>...</td>\n",
       "      <td>0</td>\n",
       "      <td>1</td>\n",
       "      <td>0</td>\n",
       "      <td>0</td>\n",
       "      <td>0</td>\n",
       "      <td>0</td>\n",
       "      <td>0</td>\n",
       "      <td>0</td>\n",
       "      <td>1</td>\n",
       "      <td>0</td>\n",
       "    </tr>\n",
       "    <tr>\n",
       "      <th>3</th>\n",
       "      <td>4</td>\n",
       "      <td>1</td>\n",
       "      <td>2</td>\n",
       "      <td>0</td>\n",
       "      <td>0</td>\n",
       "      <td>1</td>\n",
       "      <td>0</td>\n",
       "      <td>0</td>\n",
       "      <td>1</td>\n",
       "      <td>0</td>\n",
       "      <td>...</td>\n",
       "      <td>0</td>\n",
       "      <td>1</td>\n",
       "      <td>0</td>\n",
       "      <td>0</td>\n",
       "      <td>0</td>\n",
       "      <td>0</td>\n",
       "      <td>0</td>\n",
       "      <td>0</td>\n",
       "      <td>1</td>\n",
       "      <td>0</td>\n",
       "    </tr>\n",
       "    <tr>\n",
       "      <th>4</th>\n",
       "      <td>5</td>\n",
       "      <td>0</td>\n",
       "      <td>1</td>\n",
       "      <td>1</td>\n",
       "      <td>0</td>\n",
       "      <td>0</td>\n",
       "      <td>0</td>\n",
       "      <td>1</td>\n",
       "      <td>0</td>\n",
       "      <td>1</td>\n",
       "      <td>...</td>\n",
       "      <td>0</td>\n",
       "      <td>1</td>\n",
       "      <td>0</td>\n",
       "      <td>0</td>\n",
       "      <td>0</td>\n",
       "      <td>0</td>\n",
       "      <td>0</td>\n",
       "      <td>0</td>\n",
       "      <td>1</td>\n",
       "      <td>0</td>\n",
       "    </tr>\n",
       "  </tbody>\n",
       "</table>\n",
       "<p>5 rows × 24 columns</p>\n",
       "</div>"
      ],
      "text/plain": [
       "   passengerid  survived  familysize  alone high_status  pclass_1  pclass_2  \\\n",
       "0            1         0           2      0           0         0         0   \n",
       "1            2         1           2      0           0         1         0   \n",
       "2            3         1           1      1           0         0         0   \n",
       "3            4         1           2      0           0         1         0   \n",
       "4            5         0           1      1           0         0         0   \n",
       "\n",
       "   pclass_3  sex_female  sex_male    ...      first_letter_cabin_B  \\\n",
       "0         1           0         1    ...                         0   \n",
       "1         0           1         0    ...                         0   \n",
       "2         1           1         0    ...                         0   \n",
       "3         0           1         0    ...                         0   \n",
       "4         1           0         1    ...                         0   \n",
       "\n",
       "   first_letter_cabin_C  first_letter_cabin_D  first_letter_cabin_E  \\\n",
       "0                     1                     0                     0   \n",
       "1                     1                     0                     0   \n",
       "2                     1                     0                     0   \n",
       "3                     1                     0                     0   \n",
       "4                     1                     0                     0   \n",
       "\n",
       "   first_letter_cabin_F  first_letter_cabin_G  first_letter_cabin_T  \\\n",
       "0                     0                     0                     0   \n",
       "1                     0                     0                     0   \n",
       "2                     0                     0                     0   \n",
       "3                     0                     0                     0   \n",
       "4                     0                     0                     0   \n",
       "\n",
       "   ageband_0  ageband_1  ageband_2  \n",
       "0          0          1          0  \n",
       "1          0          1          0  \n",
       "2          0          1          0  \n",
       "3          0          1          0  \n",
       "4          0          1          0  \n",
       "\n",
       "[5 rows x 24 columns]"
      ]
     },
     "execution_count": 3542,
     "metadata": {},
     "output_type": "execute_result"
    }
   ],
   "source": [
    "train_df.head()"
   ]
  },
  {
   "cell_type": "markdown",
   "metadata": {},
   "source": [
    "Let's check if our dimensions match"
   ]
  },
  {
   "cell_type": "code",
   "execution_count": 3543,
   "metadata": {},
   "outputs": [
    {
     "data": {
      "text/plain": [
       "((891, 24), (418, 22))"
      ]
     },
     "execution_count": 3543,
     "metadata": {},
     "output_type": "execute_result"
    }
   ],
   "source": [
    "train_df.shape, test_df.shape"
   ]
  },
  {
   "cell_type": "markdown",
   "metadata": {},
   "source": [
    "The dimensions of our training and testing datasets don't match. \n"
   ]
  },
  {
   "cell_type": "code",
   "execution_count": 3544,
   "metadata": {},
   "outputs": [
    {
     "data": {
      "text/plain": [
       "{'first_letter_cabin_T', 'survived'}"
      ]
     },
     "execution_count": 3544,
     "metadata": {},
     "output_type": "execute_result"
    }
   ],
   "source": [
    "set(train_df.columns) - set(test_df.columns)"
   ]
  },
  {
   "cell_type": "markdown",
   "metadata": {},
   "source": [
    "It seems that the test dataset doesn't contain first_letter_cabin_T.."
   ]
  },
  {
   "cell_type": "markdown",
   "metadata": {},
   "source": [
    "The dimensions of our training and testing datasets don't match. \n",
    "It seems that the test dataset doesn't contain first_letter_cabin_T... 🤔"
   ]
  },
  {
   "cell_type": "markdown",
   "metadata": {},
   "source": [
    "Turns out variable first_letter_cabin_T exists only in the training dataset."
   ]
  },
  {
   "cell_type": "code",
   "execution_count": 3545,
   "metadata": {},
   "outputs": [
    {
     "data": {
      "text/plain": [
       "0    890\n",
       "1      1\n",
       "Name: first_letter_cabin_T, dtype: int64"
      ]
     },
     "execution_count": 3545,
     "metadata": {},
     "output_type": "execute_result"
    }
   ],
   "source": [
    "train_df[\"first_letter_cabin_T\"].value_counts()"
   ]
  },
  {
   "cell_type": "markdown",
   "metadata": {},
   "source": [
    "Since it's just one observation, we should be fine with dropping this variable with the unlucky passenger."
   ]
  },
  {
   "cell_type": "code",
   "execution_count": 3546,
   "metadata": {
    "collapsed": true,
    "scrolled": true
   },
   "outputs": [],
   "source": [
    "train_df.drop([\"first_letter_cabin_T\"], inplace=True, axis=1)\n"
   ]
  },
  {
   "cell_type": "markdown",
   "metadata": {},
   "source": [
    "Boom! The column shapes now match (=19). Let's divide our sample into training and validation set:"
   ]
  },
  {
   "cell_type": "code",
   "execution_count": 3547,
   "metadata": {
    "collapsed": true
   },
   "outputs": [],
   "source": [
    "Y_train = train_df[\"survived\"]\n",
    "X_train = train_df.drop([\"survived\",\"passengerid\"], axis = 1)\n"
   ]
  },
  {
   "cell_type": "markdown",
   "metadata": {},
   "source": [
    "<a id=\"classification\"></a>\n"
   ]
  },
  {
   "cell_type": "markdown",
   "metadata": {
    "collapsed": true
   },
   "source": [
    "### 5. Classification"
   ]
  },
  {
   "cell_type": "markdown",
   "metadata": {},
   "source": [
    "\n",
    "\n",
    "I'll test the following classifiers:\n",
    "\n",
    "1. Logistic regression   \n",
    "2. Linear SVC   \n",
    "3. KNearest neighbors   \n",
    "4. SVC   \n",
    "5. Random Forest Classifier (Ensemble)   \n",
    "6. AdaBoost classifier (Ensemble)   \n",
    "\n",
    "Their choice was based mainly on the incredibly informative map of algorithms found on the official sklearn site: http://scikit-learn.org/stable/tutorial/machine_learning_map/index.html\n",
    "\n"
   ]
  },
  {
   "cell_type": "markdown",
   "metadata": {
    "collapsed": true
   },
   "source": [
    "But before we start training our models, let's make a helper function that will calculate cross-validated scores for each of our classifiers."
   ]
  },
  {
   "cell_type": "code",
   "execution_count": 3548,
   "metadata": {
    "collapsed": true
   },
   "outputs": [],
   "source": [
    "scores_dict = {}\n",
    "\n",
    "def print_cv_score(clf, X_train, Y_train):\n",
    "    function_name = lambda x: str(x).rsplit('(')[0] #the delimiter with which we'll split is in the round brackets. The square brackets indicate the first element of the list of strings [divided by '('] \n",
    "    clf.fit(X_train, Y_train)\n",
    "    score = cross_val_score(clf, X_train, Y_train, cv=10)\n",
    "    print(\"Accuracy: %0.3f (+/- %0.3f)\" % (score.mean(), score.std() * 2))\n",
    "    scores_dict[function_name(clf)] = '%.3f' % round(score.mean(),3) # this rounds the mean score to 3 decimal points. Not including the '%.3f' in front resulted in printing of the number that was rounded at nth decimal, but the following digits were printed regardless. \n"
   ]
  },
  {
   "cell_type": "markdown",
   "metadata": {},
   "source": [
    "<a id=\"logreg\"></a>\n"
   ]
  },
  {
   "cell_type": "markdown",
   "metadata": {},
   "source": [
    "### 5.1 Logistic regression"
   ]
  },
  {
   "cell_type": "code",
   "execution_count": 3549,
   "metadata": {},
   "outputs": [
    {
     "name": "stdout",
     "output_type": "stream",
     "text": [
      "Accuracy: 0.805 (+/- 0.054)\n"
     ]
    }
   ],
   "source": [
    "clf = LogisticRegression()\n",
    "print_cv_score(clf, X_train, Y_train)"
   ]
  },
  {
   "cell_type": "markdown",
   "metadata": {},
   "source": [
    "That's a pretty good accuracy for the first try! "
   ]
  },
  {
   "cell_type": "markdown",
   "metadata": {},
   "source": [
    "### 5.2 Linear SVC\n",
    "\n"
   ]
  },
  {
   "cell_type": "code",
   "execution_count": 3552,
   "metadata": {},
   "outputs": [
    {
     "name": "stdout",
     "output_type": "stream",
     "text": [
      "Accuracy: 0.810 (+/- 0.057)\n"
     ]
    }
   ],
   "source": [
    "clf = LinearSVC(random_state=0)\n",
    "print_cv_score(clf, X_train, Y_train)"
   ]
  },
  {
   "cell_type": "markdown",
   "metadata": {},
   "source": [
    "<a id=\"knn\"></a>"
   ]
  },
  {
   "cell_type": "markdown",
   "metadata": {},
   "source": [
    "### 5.3 KNearest neighbors\n",
    "\n"
   ]
  },
  {
   "cell_type": "code",
   "execution_count": 3553,
   "metadata": {},
   "outputs": [
    {
     "name": "stdout",
     "output_type": "stream",
     "text": [
      "Accuracy: 0.822 (+/- 0.079)\n"
     ]
    }
   ],
   "source": [
    "clf = KNeighborsClassifier(n_neighbors=5)\n",
    "print_cv_score(clf, X_train, Y_train)"
   ]
  },
  {
   "cell_type": "markdown",
   "metadata": {},
   "source": [
    "<a id=\"svc\"></a>"
   ]
  },
  {
   "cell_type": "markdown",
   "metadata": {},
   "source": [
    "### 5.4 SVC\n",
    "\n"
   ]
  },
  {
   "cell_type": "code",
   "execution_count": 3554,
   "metadata": {},
   "outputs": [
    {
     "name": "stdout",
     "output_type": "stream",
     "text": [
      "Accuracy: 0.818 (+/- 0.046)\n"
     ]
    }
   ],
   "source": [
    "clf = SVC()\n",
    "print_cv_score(clf, X_train, Y_train)"
   ]
  },
  {
   "cell_type": "markdown",
   "metadata": {},
   "source": [
    "<a id=\"rfc\"></a>"
   ]
  },
  {
   "cell_type": "markdown",
   "metadata": {},
   "source": [
    "### 5.5 Random Forest Classifier\n",
    "\n"
   ]
  },
  {
   "cell_type": "code",
   "execution_count": 3555,
   "metadata": {},
   "outputs": [
    {
     "name": "stdout",
     "output_type": "stream",
     "text": [
      "Accuracy: 0.817 (+/- 0.070)\n"
     ]
    }
   ],
   "source": [
    "clf = RandomForestClassifier(max_depth=5, n_estimators=10, max_features=6)\n",
    "print_cv_score(clf, X_train, Y_train)"
   ]
  },
  {
   "cell_type": "markdown",
   "metadata": {},
   "source": [
    "<a id=\"adaboost\"></a>"
   ]
  },
  {
   "cell_type": "markdown",
   "metadata": {},
   "source": [
    "### 5.6 AdaBoost Classifier\n",
    "\n"
   ]
  },
  {
   "cell_type": "code",
   "execution_count": 3556,
   "metadata": {},
   "outputs": [
    {
     "name": "stdout",
     "output_type": "stream",
     "text": [
      "Accuracy: 0.805 (+/- 0.033)\n"
     ]
    }
   ],
   "source": [
    "clf = AdaBoostClassifier()\n",
    "print_cv_score(clf, X_train, Y_train)"
   ]
  },
  {
   "cell_type": "markdown",
   "metadata": {},
   "source": [
    "<a id=\"results\"></a>\n"
   ]
  },
  {
   "cell_type": "markdown",
   "metadata": {},
   "source": [
    "### 6. Results"
   ]
  },
  {
   "cell_type": "code",
   "execution_count": 3557,
   "metadata": {
    "scrolled": true
   },
   "outputs": [
    {
     "data": {
      "text/plain": [
       "{'AdaBoostClassifier': '0.805',\n",
       " 'KNeighborsClassifier': '0.822',\n",
       " 'LinearSVC': '0.810',\n",
       " 'LogisticRegression': '0.805',\n",
       " 'RandomForestClassifier': '0.817',\n",
       " 'SVC': '0.818'}"
      ]
     },
     "execution_count": 3557,
     "metadata": {},
     "output_type": "execute_result"
    }
   ],
   "source": [
    "scores_dict"
   ]
  },
  {
   "cell_type": "markdown",
   "metadata": {},
   "source": [
    "And the prize for the most effective algorithm goes to..."
   ]
  },
  {
   "cell_type": "code",
   "execution_count": 3558,
   "metadata": {},
   "outputs": [
    {
     "data": {
      "text/plain": [
       "'KNeighborsClassifier'"
      ]
     },
     "execution_count": 3558,
     "metadata": {},
     "output_type": "execute_result"
    }
   ],
   "source": [
    "max(scores_dict, key=scores_dict.get)\n"
   ]
  },
  {
   "cell_type": "markdown",
   "metadata": {},
   "source": [
    "The score could be improved significantly with further feature engineering and fiddling with the hyperparameters. \n",
    "\n",
    "For now, let's apply the best model we have to our test data and create a file I can submit as an entry to the Kaggle competition."
   ]
  },
  {
   "cell_type": "code",
   "execution_count": 3559,
   "metadata": {
    "collapsed": true
   },
   "outputs": [],
   "source": [
    "clf = KNeighborsClassifier(n_neighbors=5)\n",
    "clf.fit(X_train, Y_train)\n",
    "Y_pred = clf.predict(test_df.drop([\"passengerid\"],axis=1))"
   ]
  },
  {
   "cell_type": "code",
   "execution_count": 3560,
   "metadata": {
    "collapsed": true
   },
   "outputs": [],
   "source": [
    "submission = pd.DataFrame({\n",
    "        \"PassengerId\": test_df[\"passengerid\"],\n",
    "        \"Survived\": Y_pred\n",
    "    })\n",
    "\n",
    "submission.to_csv('submission.csv', index=False)"
   ]
  }
 ],
 "metadata": {
  "kernelspec": {
   "display_name": "Python 3",
   "language": "python",
   "name": "python3"
  },
  "language_info": {
   "codemirror_mode": {
    "name": "ipython",
    "version": 3
   },
   "file_extension": ".py",
   "mimetype": "text/x-python",
   "name": "python",
   "nbconvert_exporter": "python",
   "pygments_lexer": "ipython3",
   "version": "3.6.1"
  }
 },
 "nbformat": 4,
 "nbformat_minor": 1
}
